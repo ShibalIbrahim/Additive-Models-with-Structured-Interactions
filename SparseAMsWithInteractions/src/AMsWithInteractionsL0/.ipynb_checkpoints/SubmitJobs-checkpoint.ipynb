{
 "cells": [
  {
   "cell_type": "code",
   "execution_count": 5,
   "metadata": {},
   "outputs": [],
   "source": [
    "import numpy as np\n",
    "import pandas as pd\n",
    "import os\n",
    "import shutil\n",
    "from subprocess import Popen, PIPE\n",
    "from IPython.display import clear_output\n",
    "import time"
   ]
  },
  {
   "cell_type": "code",
   "execution_count": 427,
   "metadata": {},
   "outputs": [],
   "source": [
    "PYPATH = '/home/shibal/anaconda3/envs/jasa/bin/python'\n",
    "FILEPATH = '/home/shibal/Additive-Models-with-Structured-Interactions/SparseAMsWithInteractions/src/AMsWithInteractionsL0/AMsWithInteractionsL0-Synthetic.py'\n",
    "PATH = \"/pool001/shibal/results-synthetic\"\n",
    "\n",
    "version = 13\n",
    "# n = 100\n",
    "r = 1.5\n",
    "dist = 'skewed'"
   ]
  },
  {
   "cell_type": "code",
   "execution_count": 428,
   "metadata": {},
   "outputs": [],
   "source": [
    "def make_bash_file(seed, version, dist, r):\n",
    "    bash_folder_path = f\"{PATH}/bashes/dist_{dist}/v{version}_r{r}\"\n",
    "    bash_file_path = os.path.join(bash_folder_path, \"seed{}.sh\".format(seed))\n",
    "    log_path = f\"{PATH}/logs/dist_{dist}/v{version}_r{r}/seed{seed}\"\n",
    "    os.makedirs(bash_folder_path,exist_ok=True)\n",
    "    os.makedirs(log_path,exist_ok=True)\n",
    "    with open(bash_file_path,\"w\") as f:\n",
    "        f.write(\"#!/bin/bash\\n\")\n",
    "        f.write(\"#SBATCH --cpus-per-task=2\\n\")\n",
    "        f.write(\"#SBATCH --time=1-00:00\\n\")\n",
    "        f.write(\"#SBATCH --mem=16G\\n\")\n",
    "        f.write(\"#SBATCH -p sched_mit_sloan_batch\\n\")        \n",
    "        f.write(\"#SBATCH --mail-type=FAIL\\n\")\n",
    "        f.write(\"#SBATCH --mail-user=shibal@mit.edu\\n\")\n",
    "        f.write(f\"#SBATCH -o {log_path}/seed{seed}_%j.out\\n\")\n",
    "        f.write(f\"#SBATCH -e {log_path}/_seed{seed}_%j.err\\n\\n\")\n",
    "        f.write(\"module load sloan/python/modules/python-3.6/gurobipy/9.0.1\\n\\n\")\n",
    "        f.write(f\"{PYPATH} -u {FILEPATH}  --dist {dist} --seed {seed} --train_size {100} --version {version} --r {r} |& tee -a {log_path}/output.txt\\n\\n\") \n",
    "        f.write(f\"{PYPATH} -u {FILEPATH}  --dist {dist} --seed {seed} --train_size {200} --version {version} --r {r} |& tee -a {log_path}/output.txt\\n\\n\") \n",
    "        f.write(f\"{PYPATH} -u {FILEPATH}  --dist {dist} --seed {seed} --train_size {400} --version {version} --r {r} |& tee -a {log_path}/output.txt\\n\\n\") \n",
    "        f.write(f\"{PYPATH} -u {FILEPATH}  --dist {dist} --seed {seed} --train_size {1000} --version {version} --r {r} |& tee -a {log_path}/output.txt\\n\\n\") \n",
    "    return bash_file_path\n"
   ]
  },
  {
   "cell_type": "code",
   "execution_count": 429,
   "metadata": {},
   "outputs": [],
   "source": [
    "bash_files = []\n",
    "seeds = np.arange(1,100)\n",
    "for seed in seeds:\n",
    "    bash_files.append(make_bash_file(seed, version, dist, r))"
   ]
  },
  {
   "cell_type": "code",
   "execution_count": 430,
   "metadata": {},
   "outputs": [
    {
     "name": "stdout",
     "output_type": "stream",
     "text": [
      "100\n"
     ]
    }
   ],
   "source": [
    "torun = seeds\n",
    "# torun = range(1,6)\n",
    "submitted = []\n",
    "print(len(torun))"
   ]
  },
  {
   "cell_type": "code",
   "execution_count": 431,
   "metadata": {
    "scrolled": true
   },
   "outputs": [
    {
     "name": "stdout",
     "output_type": "stream",
     "text": [
      "0\n",
      "2022-10-28 02:57:57 b'Submitted batch job 45130306\\n' None\n",
      "/pool001/shibal/results-synthetic/bashes/dist_skewed/v13_r1.5/seed0.sh submitted!\n",
      "job id: 45130306\n",
      "1\n",
      "2022-10-28 02:57:58 b'' None\n"
     ]
    },
    {
     "ename": "KeyboardInterrupt",
     "evalue": "",
     "output_type": "error",
     "traceback": [
      "\u001b[0;31m---------------------------------------------------------------------------\u001b[0m",
      "\u001b[0;31mKeyboardInterrupt\u001b[0m                         Traceback (most recent call last)",
      "\u001b[0;32m<ipython-input-431-a76306c0b2ed>\u001b[0m in \u001b[0;36m<module>\u001b[0;34m\u001b[0m\n\u001b[1;32m     16\u001b[0m             \u001b[0msubmitted\u001b[0m\u001b[0;34m.\u001b[0m\u001b[0mappend\u001b[0m\u001b[0;34m(\u001b[0m\u001b[0mtmp_id\u001b[0m\u001b[0;34m)\u001b[0m\u001b[0;34m\u001b[0m\u001b[0;34m\u001b[0m\u001b[0m\n\u001b[1;32m     17\u001b[0m             \u001b[0;32mbreak\u001b[0m\u001b[0;34m\u001b[0m\u001b[0;34m\u001b[0m\u001b[0m\n\u001b[0;32m---> 18\u001b[0;31m         \u001b[0mtime\u001b[0m\u001b[0;34m.\u001b[0m\u001b[0msleep\u001b[0m\u001b[0;34m(\u001b[0m\u001b[0;36m10000\u001b[0m\u001b[0;34m)\u001b[0m\u001b[0;34m\u001b[0m\u001b[0;34m\u001b[0m\u001b[0m\n\u001b[0m",
      "\u001b[0;31mKeyboardInterrupt\u001b[0m: "
     ]
    }
   ],
   "source": [
    "exit_code = 1\n",
    "for i, seed in enumerate(seeds):\n",
    "    if i % 100 == 0:\n",
    "        clear_output(wait=True)\n",
    "    print(i)\n",
    "    sh = make_bash_file(seed, version, dist, r)\n",
    "    while True:\n",
    "        process = Popen([\"sbatch\",sh], stdout=PIPE)\n",
    "        (output, err) = process.communicate()\n",
    "        exit_code = process.wait()\n",
    "        print(time.strftime('%Y-%m-%d %H:%M:%S', time.localtime(time.time())),output,err)\n",
    "        if exit_code == 0:\n",
    "            print(sh,\"submitted!\")\n",
    "            tmp_id = str(output)[-11:-3]\n",
    "            print(\"job id:\", tmp_id)\n",
    "            submitted.append(tmp_id)\n",
    "            break\n",
    "        time.sleep(10000)"
   ]
  },
  {
   "cell_type": "code",
   "execution_count": null,
   "metadata": {},
   "outputs": [],
   "source": [
    "from subprocess import Popen, PIPE"
   ]
  },
  {
   "cell_type": "code",
   "execution_count": 426,
   "metadata": {},
   "outputs": [
    {
     "name": "stdout",
     "output_type": "stream",
     "text": [
      "45129823 deleted!\n"
     ]
    }
   ],
   "source": [
    "for job in range(45129823, 45129824):\n",
    "    process = Popen(['scancel',str(job)], stdout=PIPE)\n",
    "    (output, err) = process.communicate()\n",
    "    exit_code = process.wait()\n",
    "    if exit_code ==0:\n",
    "        print(job, \"deleted!\")"
   ]
  },
  {
   "cell_type": "code",
   "execution_count": 399,
   "metadata": {},
   "outputs": [
    {
     "name": "stdout",
     "output_type": "stream",
     "text": [
      "rm -r /pool001/shibal/results-synthetic/N_train_1000/seed0/AMsWithInteractionsL0/v11/r1.5\n",
      "rm: cannot remove ‘/pool001/shibal/results-synthetic/N_train_1000/seed0/AMsWithInteractionsL0/v11/r1.5’: No such file or directory\n",
      "rm -r /pool001/shibal/results-synthetic/N_train_1000/seed1/AMsWithInteractionsL0/v11/r1.5\n",
      "rm: cannot remove ‘/pool001/shibal/results-synthetic/N_train_1000/seed1/AMsWithInteractionsL0/v11/r1.5’: No such file or directory\n",
      "rm -r /pool001/shibal/results-synthetic/N_train_1000/seed2/AMsWithInteractionsL0/v11/r1.5\n",
      "rm: cannot remove ‘/pool001/shibal/results-synthetic/N_train_1000/seed2/AMsWithInteractionsL0/v11/r1.5’: No such file or directory\n",
      "rm -r /pool001/shibal/results-synthetic/N_train_1000/seed3/AMsWithInteractionsL0/v11/r1.5\n",
      "rm: cannot remove ‘/pool001/shibal/results-synthetic/N_train_1000/seed3/AMsWithInteractionsL0/v11/r1.5’: No such file or directory\n",
      "rm -r /pool001/shibal/results-synthetic/N_train_1000/seed4/AMsWithInteractionsL0/v11/r1.5\n",
      "rm: cannot remove ‘/pool001/shibal/results-synthetic/N_train_1000/seed4/AMsWithInteractionsL0/v11/r1.5’: No such file or directory\n",
      "rm -r /pool001/shibal/results-synthetic/N_train_1000/seed5/AMsWithInteractionsL0/v11/r1.5\n",
      "rm: cannot remove ‘/pool001/shibal/results-synthetic/N_train_1000/seed5/AMsWithInteractionsL0/v11/r1.5’: No such file or directory\n",
      "rm -r /pool001/shibal/results-synthetic/N_train_1000/seed6/AMsWithInteractionsL0/v11/r1.5\n",
      "rm: cannot remove ‘/pool001/shibal/results-synthetic/N_train_1000/seed6/AMsWithInteractionsL0/v11/r1.5’: No such file or directory\n",
      "rm -r /pool001/shibal/results-synthetic/N_train_1000/seed7/AMsWithInteractionsL0/v11/r1.5\n",
      "rm: cannot remove ‘/pool001/shibal/results-synthetic/N_train_1000/seed7/AMsWithInteractionsL0/v11/r1.5’: No such file or directory\n",
      "rm -r /pool001/shibal/results-synthetic/N_train_1000/seed8/AMsWithInteractionsL0/v11/r1.5\n",
      "rm: cannot remove ‘/pool001/shibal/results-synthetic/N_train_1000/seed8/AMsWithInteractionsL0/v11/r1.5’: No such file or directory\n",
      "rm -r /pool001/shibal/results-synthetic/N_train_1000/seed9/AMsWithInteractionsL0/v11/r1.5\n",
      "rm: cannot remove ‘/pool001/shibal/results-synthetic/N_train_1000/seed9/AMsWithInteractionsL0/v11/r1.5’: No such file or directory\n",
      "rm -r /pool001/shibal/results-synthetic/N_train_1000/seed10/AMsWithInteractionsL0/v11/r1.5\n",
      "rm: cannot remove ‘/pool001/shibal/results-synthetic/N_train_1000/seed10/AMsWithInteractionsL0/v11/r1.5’: No such file or directory\n",
      "rm -r /pool001/shibal/results-synthetic/N_train_1000/seed11/AMsWithInteractionsL0/v11/r1.5\n",
      "rm: cannot remove ‘/pool001/shibal/results-synthetic/N_train_1000/seed11/AMsWithInteractionsL0/v11/r1.5’: No such file or directory\n",
      "rm -r /pool001/shibal/results-synthetic/N_train_1000/seed12/AMsWithInteractionsL0/v11/r1.5\n",
      "rm: cannot remove ‘/pool001/shibal/results-synthetic/N_train_1000/seed12/AMsWithInteractionsL0/v11/r1.5’: No such file or directory\n",
      "rm -r /pool001/shibal/results-synthetic/N_train_1000/seed13/AMsWithInteractionsL0/v11/r1.5\n",
      "rm: cannot remove ‘/pool001/shibal/results-synthetic/N_train_1000/seed13/AMsWithInteractionsL0/v11/r1.5’: No such file or directory\n",
      "rm -r /pool001/shibal/results-synthetic/N_train_1000/seed14/AMsWithInteractionsL0/v11/r1.5\n",
      "rm: cannot remove ‘/pool001/shibal/results-synthetic/N_train_1000/seed14/AMsWithInteractionsL0/v11/r1.5’: No such file or directory\n",
      "rm -r /pool001/shibal/results-synthetic/N_train_1000/seed15/AMsWithInteractionsL0/v11/r1.5\n",
      "rm: cannot remove ‘/pool001/shibal/results-synthetic/N_train_1000/seed15/AMsWithInteractionsL0/v11/r1.5’: No such file or directory\n",
      "rm -r /pool001/shibal/results-synthetic/N_train_1000/seed16/AMsWithInteractionsL0/v11/r1.5\n",
      "rm: cannot remove ‘/pool001/shibal/results-synthetic/N_train_1000/seed16/AMsWithInteractionsL0/v11/r1.5’: No such file or directory\n",
      "rm -r /pool001/shibal/results-synthetic/N_train_1000/seed17/AMsWithInteractionsL0/v11/r1.5\n",
      "rm: cannot remove ‘/pool001/shibal/results-synthetic/N_train_1000/seed17/AMsWithInteractionsL0/v11/r1.5’: No such file or directory\n",
      "rm -r /pool001/shibal/results-synthetic/N_train_1000/seed18/AMsWithInteractionsL0/v11/r1.5\n",
      "rm: cannot remove ‘/pool001/shibal/results-synthetic/N_train_1000/seed18/AMsWithInteractionsL0/v11/r1.5’: No such file or directory\n",
      "rm -r /pool001/shibal/results-synthetic/N_train_1000/seed19/AMsWithInteractionsL0/v11/r1.5\n",
      "rm: cannot remove ‘/pool001/shibal/results-synthetic/N_train_1000/seed19/AMsWithInteractionsL0/v11/r1.5’: No such file or directory\n",
      "rm -r /pool001/shibal/results-synthetic/N_train_1000/seed20/AMsWithInteractionsL0/v11/r1.5\n",
      "rm: cannot remove ‘/pool001/shibal/results-synthetic/N_train_1000/seed20/AMsWithInteractionsL0/v11/r1.5’: No such file or directory\n",
      "rm -r /pool001/shibal/results-synthetic/N_train_1000/seed21/AMsWithInteractionsL0/v11/r1.5\n",
      "rm: cannot remove ‘/pool001/shibal/results-synthetic/N_train_1000/seed21/AMsWithInteractionsL0/v11/r1.5’: No such file or directory\n",
      "rm -r /pool001/shibal/results-synthetic/N_train_1000/seed22/AMsWithInteractionsL0/v11/r1.5\n",
      "rm: cannot remove ‘/pool001/shibal/results-synthetic/N_train_1000/seed22/AMsWithInteractionsL0/v11/r1.5’: No such file or directory\n",
      "rm -r /pool001/shibal/results-synthetic/N_train_1000/seed23/AMsWithInteractionsL0/v11/r1.5\n",
      "rm: cannot remove ‘/pool001/shibal/results-synthetic/N_train_1000/seed23/AMsWithInteractionsL0/v11/r1.5’: No such file or directory\n",
      "rm -r /pool001/shibal/results-synthetic/N_train_1000/seed24/AMsWithInteractionsL0/v11/r1.5\n",
      "rm: cannot remove ‘/pool001/shibal/results-synthetic/N_train_1000/seed24/AMsWithInteractionsL0/v11/r1.5’: No such file or directory\n",
      "rm -r /pool001/shibal/results-synthetic/N_train_1000/seed25/AMsWithInteractionsL0/v11/r1.5\n",
      "rm: cannot remove ‘/pool001/shibal/results-synthetic/N_train_1000/seed25/AMsWithInteractionsL0/v11/r1.5’: No such file or directory\n",
      "rm -r /pool001/shibal/results-synthetic/N_train_1000/seed26/AMsWithInteractionsL0/v11/r1.5\n",
      "rm: cannot remove ‘/pool001/shibal/results-synthetic/N_train_1000/seed26/AMsWithInteractionsL0/v11/r1.5’: No such file or directory\n",
      "rm -r /pool001/shibal/results-synthetic/N_train_1000/seed27/AMsWithInteractionsL0/v11/r1.5\n",
      "rm: cannot remove ‘/pool001/shibal/results-synthetic/N_train_1000/seed27/AMsWithInteractionsL0/v11/r1.5’: No such file or directory\n",
      "rm -r /pool001/shibal/results-synthetic/N_train_1000/seed28/AMsWithInteractionsL0/v11/r1.5\n",
      "rm: cannot remove ‘/pool001/shibal/results-synthetic/N_train_1000/seed28/AMsWithInteractionsL0/v11/r1.5’: No such file or directory\n",
      "rm -r /pool001/shibal/results-synthetic/N_train_1000/seed29/AMsWithInteractionsL0/v11/r1.5\n",
      "rm: cannot remove ‘/pool001/shibal/results-synthetic/N_train_1000/seed29/AMsWithInteractionsL0/v11/r1.5’: No such file or directory\n",
      "rm -r /pool001/shibal/results-synthetic/N_train_1000/seed30/AMsWithInteractionsL0/v11/r1.5\n",
      "rm: cannot remove ‘/pool001/shibal/results-synthetic/N_train_1000/seed30/AMsWithInteractionsL0/v11/r1.5’: No such file or directory\n",
      "rm -r /pool001/shibal/results-synthetic/N_train_1000/seed31/AMsWithInteractionsL0/v11/r1.5\n",
      "rm: cannot remove ‘/pool001/shibal/results-synthetic/N_train_1000/seed31/AMsWithInteractionsL0/v11/r1.5’: No such file or directory\n",
      "rm -r /pool001/shibal/results-synthetic/N_train_1000/seed32/AMsWithInteractionsL0/v11/r1.5\n",
      "rm: cannot remove ‘/pool001/shibal/results-synthetic/N_train_1000/seed32/AMsWithInteractionsL0/v11/r1.5’: No such file or directory\n",
      "rm -r /pool001/shibal/results-synthetic/N_train_1000/seed33/AMsWithInteractionsL0/v11/r1.5\n",
      "rm: cannot remove ‘/pool001/shibal/results-synthetic/N_train_1000/seed33/AMsWithInteractionsL0/v11/r1.5’: No such file or directory\n",
      "rm -r /pool001/shibal/results-synthetic/N_train_1000/seed34/AMsWithInteractionsL0/v11/r1.5\n",
      "rm: cannot remove ‘/pool001/shibal/results-synthetic/N_train_1000/seed34/AMsWithInteractionsL0/v11/r1.5’: No such file or directory\n",
      "rm -r /pool001/shibal/results-synthetic/N_train_1000/seed35/AMsWithInteractionsL0/v11/r1.5\n",
      "rm: cannot remove ‘/pool001/shibal/results-synthetic/N_train_1000/seed35/AMsWithInteractionsL0/v11/r1.5’: No such file or directory\n",
      "rm -r /pool001/shibal/results-synthetic/N_train_1000/seed36/AMsWithInteractionsL0/v11/r1.5\n",
      "rm: cannot remove ‘/pool001/shibal/results-synthetic/N_train_1000/seed36/AMsWithInteractionsL0/v11/r1.5’: No such file or directory\n"
     ]
    },
    {
     "name": "stdout",
     "output_type": "stream",
     "text": [
      "rm -r /pool001/shibal/results-synthetic/N_train_1000/seed37/AMsWithInteractionsL0/v11/r1.5\n",
      "rm: cannot remove ‘/pool001/shibal/results-synthetic/N_train_1000/seed37/AMsWithInteractionsL0/v11/r1.5’: No such file or directory\n",
      "rm -r /pool001/shibal/results-synthetic/N_train_1000/seed38/AMsWithInteractionsL0/v11/r1.5\n",
      "rm: cannot remove ‘/pool001/shibal/results-synthetic/N_train_1000/seed38/AMsWithInteractionsL0/v11/r1.5’: No such file or directory\n",
      "rm -r /pool001/shibal/results-synthetic/N_train_1000/seed39/AMsWithInteractionsL0/v11/r1.5\n",
      "rm: cannot remove ‘/pool001/shibal/results-synthetic/N_train_1000/seed39/AMsWithInteractionsL0/v11/r1.5’: No such file or directory\n",
      "rm -r /pool001/shibal/results-synthetic/N_train_1000/seed40/AMsWithInteractionsL0/v11/r1.5\n",
      "rm: cannot remove ‘/pool001/shibal/results-synthetic/N_train_1000/seed40/AMsWithInteractionsL0/v11/r1.5’: No such file or directory\n",
      "rm -r /pool001/shibal/results-synthetic/N_train_1000/seed41/AMsWithInteractionsL0/v11/r1.5\n",
      "rm: cannot remove ‘/pool001/shibal/results-synthetic/N_train_1000/seed41/AMsWithInteractionsL0/v11/r1.5’: No such file or directory\n",
      "rm -r /pool001/shibal/results-synthetic/N_train_1000/seed42/AMsWithInteractionsL0/v11/r1.5\n",
      "rm: cannot remove ‘/pool001/shibal/results-synthetic/N_train_1000/seed42/AMsWithInteractionsL0/v11/r1.5’: No such file or directory\n",
      "rm -r /pool001/shibal/results-synthetic/N_train_1000/seed43/AMsWithInteractionsL0/v11/r1.5\n",
      "rm: cannot remove ‘/pool001/shibal/results-synthetic/N_train_1000/seed43/AMsWithInteractionsL0/v11/r1.5’: No such file or directory\n",
      "rm -r /pool001/shibal/results-synthetic/N_train_1000/seed44/AMsWithInteractionsL0/v11/r1.5\n",
      "rm: cannot remove ‘/pool001/shibal/results-synthetic/N_train_1000/seed44/AMsWithInteractionsL0/v11/r1.5’: No such file or directory\n",
      "rm -r /pool001/shibal/results-synthetic/N_train_1000/seed45/AMsWithInteractionsL0/v11/r1.5\n",
      "rm: cannot remove ‘/pool001/shibal/results-synthetic/N_train_1000/seed45/AMsWithInteractionsL0/v11/r1.5’: No such file or directory\n",
      "rm -r /pool001/shibal/results-synthetic/N_train_1000/seed46/AMsWithInteractionsL0/v11/r1.5\n",
      "rm -r /pool001/shibal/results-synthetic/N_train_1000/seed47/AMsWithInteractionsL0/v11/r1.5\n",
      "rm: cannot remove ‘/pool001/shibal/results-synthetic/N_train_1000/seed47/AMsWithInteractionsL0/v11/r1.5’: No such file or directory\n",
      "rm -r /pool001/shibal/results-synthetic/N_train_1000/seed48/AMsWithInteractionsL0/v11/r1.5\n",
      "rm: cannot remove ‘/pool001/shibal/results-synthetic/N_train_1000/seed48/AMsWithInteractionsL0/v11/r1.5’: No such file or directory\n",
      "rm -r /pool001/shibal/results-synthetic/N_train_1000/seed49/AMsWithInteractionsL0/v11/r1.5\n",
      "rm: cannot remove ‘/pool001/shibal/results-synthetic/N_train_1000/seed49/AMsWithInteractionsL0/v11/r1.5’: No such file or directory\n",
      "rm -r /pool001/shibal/results-synthetic/N_train_1000/seed50/AMsWithInteractionsL0/v11/r1.5\n",
      "rm: cannot remove ‘/pool001/shibal/results-synthetic/N_train_1000/seed50/AMsWithInteractionsL0/v11/r1.5’: No such file or directory\n",
      "rm -r /pool001/shibal/results-synthetic/N_train_1000/seed51/AMsWithInteractionsL0/v11/r1.5\n",
      "rm: cannot remove ‘/pool001/shibal/results-synthetic/N_train_1000/seed51/AMsWithInteractionsL0/v11/r1.5’: No such file or directory\n",
      "rm -r /pool001/shibal/results-synthetic/N_train_1000/seed52/AMsWithInteractionsL0/v11/r1.5\n",
      "rm: cannot remove ‘/pool001/shibal/results-synthetic/N_train_1000/seed52/AMsWithInteractionsL0/v11/r1.5’: No such file or directory\n",
      "rm -r /pool001/shibal/results-synthetic/N_train_1000/seed53/AMsWithInteractionsL0/v11/r1.5\n",
      "rm: cannot remove ‘/pool001/shibal/results-synthetic/N_train_1000/seed53/AMsWithInteractionsL0/v11/r1.5’: No such file or directory\n",
      "rm -r /pool001/shibal/results-synthetic/N_train_1000/seed54/AMsWithInteractionsL0/v11/r1.5\n",
      "rm: cannot remove ‘/pool001/shibal/results-synthetic/N_train_1000/seed54/AMsWithInteractionsL0/v11/r1.5’: No such file or directory\n",
      "rm -r /pool001/shibal/results-synthetic/N_train_1000/seed55/AMsWithInteractionsL0/v11/r1.5\n",
      "rm: cannot remove ‘/pool001/shibal/results-synthetic/N_train_1000/seed55/AMsWithInteractionsL0/v11/r1.5’: No such file or directory\n",
      "rm -r /pool001/shibal/results-synthetic/N_train_1000/seed56/AMsWithInteractionsL0/v11/r1.5\n",
      "rm: cannot remove ‘/pool001/shibal/results-synthetic/N_train_1000/seed56/AMsWithInteractionsL0/v11/r1.5’: No such file or directory\n",
      "rm -r /pool001/shibal/results-synthetic/N_train_1000/seed57/AMsWithInteractionsL0/v11/r1.5\n",
      "rm: cannot remove ‘/pool001/shibal/results-synthetic/N_train_1000/seed57/AMsWithInteractionsL0/v11/r1.5’: No such file or directory\n",
      "rm -r /pool001/shibal/results-synthetic/N_train_1000/seed58/AMsWithInteractionsL0/v11/r1.5\n",
      "rm: cannot remove ‘/pool001/shibal/results-synthetic/N_train_1000/seed58/AMsWithInteractionsL0/v11/r1.5’: No such file or directory\n",
      "rm -r /pool001/shibal/results-synthetic/N_train_1000/seed59/AMsWithInteractionsL0/v11/r1.5\n",
      "rm: cannot remove ‘/pool001/shibal/results-synthetic/N_train_1000/seed59/AMsWithInteractionsL0/v11/r1.5’: No such file or directory\n",
      "rm -r /pool001/shibal/results-synthetic/N_train_1000/seed60/AMsWithInteractionsL0/v11/r1.5\n",
      "rm: cannot remove ‘/pool001/shibal/results-synthetic/N_train_1000/seed60/AMsWithInteractionsL0/v11/r1.5’: No such file or directory\n",
      "rm -r /pool001/shibal/results-synthetic/N_train_1000/seed61/AMsWithInteractionsL0/v11/r1.5\n",
      "rm: cannot remove ‘/pool001/shibal/results-synthetic/N_train_1000/seed61/AMsWithInteractionsL0/v11/r1.5’: No such file or directory\n",
      "rm -r /pool001/shibal/results-synthetic/N_train_1000/seed62/AMsWithInteractionsL0/v11/r1.5\n",
      "rm: cannot remove ‘/pool001/shibal/results-synthetic/N_train_1000/seed62/AMsWithInteractionsL0/v11/r1.5’: No such file or directory\n",
      "rm -r /pool001/shibal/results-synthetic/N_train_1000/seed63/AMsWithInteractionsL0/v11/r1.5\n",
      "rm: cannot remove ‘/pool001/shibal/results-synthetic/N_train_1000/seed63/AMsWithInteractionsL0/v11/r1.5’: No such file or directory\n",
      "rm -r /pool001/shibal/results-synthetic/N_train_1000/seed64/AMsWithInteractionsL0/v11/r1.5\n",
      "rm: cannot remove ‘/pool001/shibal/results-synthetic/N_train_1000/seed64/AMsWithInteractionsL0/v11/r1.5’: No such file or directory\n",
      "rm -r /pool001/shibal/results-synthetic/N_train_1000/seed65/AMsWithInteractionsL0/v11/r1.5\n",
      "rm: cannot remove ‘/pool001/shibal/results-synthetic/N_train_1000/seed65/AMsWithInteractionsL0/v11/r1.5’: No such file or directory\n",
      "rm -r /pool001/shibal/results-synthetic/N_train_1000/seed66/AMsWithInteractionsL0/v11/r1.5\n",
      "rm: cannot remove ‘/pool001/shibal/results-synthetic/N_train_1000/seed66/AMsWithInteractionsL0/v11/r1.5’: No such file or directory\n",
      "rm -r /pool001/shibal/results-synthetic/N_train_1000/seed67/AMsWithInteractionsL0/v11/r1.5\n",
      "rm: cannot remove ‘/pool001/shibal/results-synthetic/N_train_1000/seed67/AMsWithInteractionsL0/v11/r1.5’: No such file or directory\n",
      "rm -r /pool001/shibal/results-synthetic/N_train_1000/seed68/AMsWithInteractionsL0/v11/r1.5\n",
      "rm: cannot remove ‘/pool001/shibal/results-synthetic/N_train_1000/seed68/AMsWithInteractionsL0/v11/r1.5’: No such file or directory\n",
      "rm -r /pool001/shibal/results-synthetic/N_train_1000/seed69/AMsWithInteractionsL0/v11/r1.5\n",
      "rm: cannot remove ‘/pool001/shibal/results-synthetic/N_train_1000/seed69/AMsWithInteractionsL0/v11/r1.5’: No such file or directory\n",
      "rm -r /pool001/shibal/results-synthetic/N_train_1000/seed70/AMsWithInteractionsL0/v11/r1.5\n",
      "rm: cannot remove ‘/pool001/shibal/results-synthetic/N_train_1000/seed70/AMsWithInteractionsL0/v11/r1.5’: No such file or directory\n",
      "rm -r /pool001/shibal/results-synthetic/N_train_1000/seed71/AMsWithInteractionsL0/v11/r1.5\n",
      "rm: cannot remove ‘/pool001/shibal/results-synthetic/N_train_1000/seed71/AMsWithInteractionsL0/v11/r1.5’: No such file or directory\n",
      "rm -r /pool001/shibal/results-synthetic/N_train_1000/seed72/AMsWithInteractionsL0/v11/r1.5\n",
      "rm: cannot remove ‘/pool001/shibal/results-synthetic/N_train_1000/seed72/AMsWithInteractionsL0/v11/r1.5’: No such file or directory\n",
      "rm -r /pool001/shibal/results-synthetic/N_train_1000/seed73/AMsWithInteractionsL0/v11/r1.5\n",
      "rm: cannot remove ‘/pool001/shibal/results-synthetic/N_train_1000/seed73/AMsWithInteractionsL0/v11/r1.5’: No such file or directory\n",
      "rm -r /pool001/shibal/results-synthetic/N_train_1000/seed74/AMsWithInteractionsL0/v11/r1.5\n",
      "rm: cannot remove ‘/pool001/shibal/results-synthetic/N_train_1000/seed74/AMsWithInteractionsL0/v11/r1.5’: No such file or directory\n"
     ]
    },
    {
     "name": "stdout",
     "output_type": "stream",
     "text": [
      "rm -r /pool001/shibal/results-synthetic/N_train_1000/seed75/AMsWithInteractionsL0/v11/r1.5\n",
      "rm -r /pool001/shibal/results-synthetic/N_train_1000/seed76/AMsWithInteractionsL0/v11/r1.5\n",
      "rm: cannot remove ‘/pool001/shibal/results-synthetic/N_train_1000/seed76/AMsWithInteractionsL0/v11/r1.5’: No such file or directory\n",
      "rm -r /pool001/shibal/results-synthetic/N_train_1000/seed77/AMsWithInteractionsL0/v11/r1.5\n",
      "rm: cannot remove ‘/pool001/shibal/results-synthetic/N_train_1000/seed77/AMsWithInteractionsL0/v11/r1.5’: No such file or directory\n",
      "rm -r /pool001/shibal/results-synthetic/N_train_1000/seed78/AMsWithInteractionsL0/v11/r1.5\n",
      "rm: cannot remove ‘/pool001/shibal/results-synthetic/N_train_1000/seed78/AMsWithInteractionsL0/v11/r1.5’: No such file or directory\n",
      "rm -r /pool001/shibal/results-synthetic/N_train_1000/seed79/AMsWithInteractionsL0/v11/r1.5\n",
      "rm: cannot remove ‘/pool001/shibal/results-synthetic/N_train_1000/seed79/AMsWithInteractionsL0/v11/r1.5’: No such file or directory\n",
      "rm -r /pool001/shibal/results-synthetic/N_train_1000/seed80/AMsWithInteractionsL0/v11/r1.5\n",
      "rm: cannot remove ‘/pool001/shibal/results-synthetic/N_train_1000/seed80/AMsWithInteractionsL0/v11/r1.5’: No such file or directory\n",
      "rm -r /pool001/shibal/results-synthetic/N_train_1000/seed81/AMsWithInteractionsL0/v11/r1.5\n",
      "rm: cannot remove ‘/pool001/shibal/results-synthetic/N_train_1000/seed81/AMsWithInteractionsL0/v11/r1.5’: No such file or directory\n",
      "rm -r /pool001/shibal/results-synthetic/N_train_1000/seed82/AMsWithInteractionsL0/v11/r1.5\n",
      "rm: cannot remove ‘/pool001/shibal/results-synthetic/N_train_1000/seed82/AMsWithInteractionsL0/v11/r1.5’: No such file or directory\n",
      "rm -r /pool001/shibal/results-synthetic/N_train_1000/seed83/AMsWithInteractionsL0/v11/r1.5\n",
      "rm: cannot remove ‘/pool001/shibal/results-synthetic/N_train_1000/seed83/AMsWithInteractionsL0/v11/r1.5’: No such file or directory\n",
      "rm -r /pool001/shibal/results-synthetic/N_train_1000/seed84/AMsWithInteractionsL0/v11/r1.5\n",
      "rm: cannot remove ‘/pool001/shibal/results-synthetic/N_train_1000/seed84/AMsWithInteractionsL0/v11/r1.5’: No such file or directory\n",
      "rm -r /pool001/shibal/results-synthetic/N_train_1000/seed85/AMsWithInteractionsL0/v11/r1.5\n",
      "rm: cannot remove ‘/pool001/shibal/results-synthetic/N_train_1000/seed85/AMsWithInteractionsL0/v11/r1.5’: No such file or directory\n",
      "rm -r /pool001/shibal/results-synthetic/N_train_1000/seed86/AMsWithInteractionsL0/v11/r1.5\n",
      "rm: cannot remove ‘/pool001/shibal/results-synthetic/N_train_1000/seed86/AMsWithInteractionsL0/v11/r1.5’: No such file or directory\n",
      "rm -r /pool001/shibal/results-synthetic/N_train_1000/seed87/AMsWithInteractionsL0/v11/r1.5\n",
      "rm: cannot remove ‘/pool001/shibal/results-synthetic/N_train_1000/seed87/AMsWithInteractionsL0/v11/r1.5’: No such file or directory\n",
      "rm -r /pool001/shibal/results-synthetic/N_train_1000/seed88/AMsWithInteractionsL0/v11/r1.5\n",
      "rm: cannot remove ‘/pool001/shibal/results-synthetic/N_train_1000/seed88/AMsWithInteractionsL0/v11/r1.5’: No such file or directory\n",
      "rm -r /pool001/shibal/results-synthetic/N_train_1000/seed89/AMsWithInteractionsL0/v11/r1.5\n",
      "rm: cannot remove ‘/pool001/shibal/results-synthetic/N_train_1000/seed89/AMsWithInteractionsL0/v11/r1.5’: No such file or directory\n",
      "rm -r /pool001/shibal/results-synthetic/N_train_1000/seed90/AMsWithInteractionsL0/v11/r1.5\n",
      "rm: cannot remove ‘/pool001/shibal/results-synthetic/N_train_1000/seed90/AMsWithInteractionsL0/v11/r1.5’: No such file or directory\n",
      "rm -r /pool001/shibal/results-synthetic/N_train_1000/seed91/AMsWithInteractionsL0/v11/r1.5\n",
      "rm: cannot remove ‘/pool001/shibal/results-synthetic/N_train_1000/seed91/AMsWithInteractionsL0/v11/r1.5’: No such file or directory\n",
      "rm -r /pool001/shibal/results-synthetic/N_train_1000/seed92/AMsWithInteractionsL0/v11/r1.5\n",
      "rm: cannot remove ‘/pool001/shibal/results-synthetic/N_train_1000/seed92/AMsWithInteractionsL0/v11/r1.5’: No such file or directory\n",
      "rm -r /pool001/shibal/results-synthetic/N_train_1000/seed93/AMsWithInteractionsL0/v11/r1.5\n",
      "rm: cannot remove ‘/pool001/shibal/results-synthetic/N_train_1000/seed93/AMsWithInteractionsL0/v11/r1.5’: No such file or directory\n",
      "rm -r /pool001/shibal/results-synthetic/N_train_1000/seed94/AMsWithInteractionsL0/v11/r1.5\n",
      "rm: cannot remove ‘/pool001/shibal/results-synthetic/N_train_1000/seed94/AMsWithInteractionsL0/v11/r1.5’: No such file or directory\n",
      "rm -r /pool001/shibal/results-synthetic/N_train_1000/seed95/AMsWithInteractionsL0/v11/r1.5\n",
      "rm: cannot remove ‘/pool001/shibal/results-synthetic/N_train_1000/seed95/AMsWithInteractionsL0/v11/r1.5’: No such file or directory\n",
      "rm -r /pool001/shibal/results-synthetic/N_train_1000/seed96/AMsWithInteractionsL0/v11/r1.5\n",
      "rm: cannot remove ‘/pool001/shibal/results-synthetic/N_train_1000/seed96/AMsWithInteractionsL0/v11/r1.5’: No such file or directory\n",
      "rm -r /pool001/shibal/results-synthetic/N_train_1000/seed97/AMsWithInteractionsL0/v11/r1.5\n",
      "rm: cannot remove ‘/pool001/shibal/results-synthetic/N_train_1000/seed97/AMsWithInteractionsL0/v11/r1.5’: No such file or directory\n",
      "rm -r /pool001/shibal/results-synthetic/N_train_1000/seed98/AMsWithInteractionsL0/v11/r1.5\n",
      "rm: cannot remove ‘/pool001/shibal/results-synthetic/N_train_1000/seed98/AMsWithInteractionsL0/v11/r1.5’: No such file or directory\n",
      "rm -r /pool001/shibal/results-synthetic/N_train_1000/seed99/AMsWithInteractionsL0/v11/r1.5\n",
      "rm: cannot remove ‘/pool001/shibal/results-synthetic/N_train_1000/seed99/AMsWithInteractionsL0/v11/r1.5’: No such file or directory\n"
     ]
    }
   ],
   "source": [
    "for seed in range(100):\n",
    "    command = f\"\"\"rm -r /pool001/shibal/results-synthetic/N_train_1000/seed{seed}/AMsWithInteractionsL0/v11/r1.5\"\"\"\n",
    "    print(command)\n",
    "    !{command}"
   ]
  },
  {
   "cell_type": "code",
   "execution_count": null,
   "metadata": {},
   "outputs": [],
   "source": []
  }
 ],
 "metadata": {
  "kernelspec": {
   "display_name": "Python [conda env:jasa] *",
   "language": "python",
   "name": "conda-env-jasa-py"
  },
  "language_info": {
   "codemirror_mode": {
    "name": "ipython",
    "version": 3
   },
   "file_extension": ".py",
   "mimetype": "text/x-python",
   "name": "python",
   "nbconvert_exporter": "python",
   "pygments_lexer": "ipython3",
   "version": "3.6.12"
  }
 },
 "nbformat": 4,
 "nbformat_minor": 4
}
