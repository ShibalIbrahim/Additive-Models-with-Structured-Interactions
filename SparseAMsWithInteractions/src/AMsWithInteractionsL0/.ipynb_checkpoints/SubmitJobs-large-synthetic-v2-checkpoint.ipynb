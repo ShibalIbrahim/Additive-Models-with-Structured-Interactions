{
 "cells": [
  {
   "cell_type": "code",
   "execution_count": 146,
   "metadata": {},
   "outputs": [],
   "source": [
    "import numpy as np\n",
    "import pandas as pd\n",
    "import os\n",
    "import shutil\n",
    "from subprocess import Popen, PIPE\n",
    "from IPython.display import clear_output\n",
    "import time"
   ]
  },
  {
   "cell_type": "code",
   "execution_count": 290,
   "metadata": {},
   "outputs": [],
   "source": [
    "PYPATH = '/home/shibal/anaconda3/envs/jasa/bin/python'\n",
    "FILEPATH = '/home/shibal/Additive-Models-with-Structured-Interactions/SparseAMsWithInteractions/src/AMsWithInteractionsL0/AMsWithInteractionsL0-Synthetic.py'\n",
    "PATH = \"/pool001/shibal/results-synthetic\"\n",
    "\n",
    "dataset = 'large-synthetic-correlated'\n",
    "version = 30\n",
    "Ki = 10\n",
    "Kij = 6\n",
    "r = 1.0\n",
    "dist = 'normal'\n",
    "correlation = 0.1\n",
    "train_size = 10000\n",
    "num_seeds = 10\n",
    "init_seed = 0"
   ]
  },
  {
   "cell_type": "code",
   "execution_count": 291,
   "metadata": {},
   "outputs": [],
   "source": [
    "def make_bash_file(seed, version, dist, r):\n",
    "    bash_folder_path = f\"{PATH}/bashes/{dataset}/{dist}/v{version}_r{r}/train_size_{train_size}\"\n",
    "    bash_file_path = os.path.join(bash_folder_path, f\"seed{seed}.sh\")\n",
    "    log_path = f\"{PATH}/logs/{dataset}/{dist}/v{version}_r{r}/train_size_{train_size}/seed{seed}\"\n",
    "    os.makedirs(bash_folder_path,exist_ok=True)\n",
    "    os.makedirs(log_path,exist_ok=True)\n",
    "    with open(bash_file_path,\"w\") as f:\n",
    "        f.write(\"#!/bin/bash\\n\")\n",
    "        f.write(\"#SBATCH --cpus-per-task=2\\n\")\n",
    "        f.write(\"#SBATCH --time=1-00:00\\n\")\n",
    "        f.write(\"#SBATCH --mem=24G\\n\")\n",
    "        f.write(\"#SBATCH -p sched_mit_sloan_batch\\n\")\n",
    "#         f.write(\"#SBATCH -p sched_mit_sloan_interactive\\n\")\n",
    "        f.write(\"#SBATCH --mail-type=FAIL\\n\")\n",
    "        f.write(\"#SBATCH --mail-user=shibal@mit.edu\\n\")\n",
    "        f.write(f\"#SBATCH -o {log_path}/seed{seed}_%j.out\\n\")\n",
    "        f.write(f\"#SBATCH -e {log_path}/_seed{seed}_%j.err\\n\\n\")\n",
    "        f.write(\"module load sloan/python/modules/python-3.6/gurobipy/9.0.1\\n\\n\")\n",
    "        f.write(f\"{PYPATH} -u {FILEPATH}  --dataset {dataset} --dist {dist} --correlation {correlation} --seed {seed} --train_size {train_size} --version {version} --r {r} --Ki {Ki} --Kij {Kij} |& tee -a {log_path}/output_{train_size}.txt\\n\\n\") \n",
    "    return bash_file_path\n"
   ]
  },
  {
   "cell_type": "code",
   "execution_count": 292,
   "metadata": {},
   "outputs": [],
   "source": [
    "bash_files = []\n",
    "seeds = np.arange(init_seed, init_seed+num_seeds)\n",
    "for seed in seeds:\n",
    "    bash_files.append(make_bash_file(seed, version, dist, r))"
   ]
  },
  {
   "cell_type": "code",
   "execution_count": 293,
   "metadata": {},
   "outputs": [
    {
     "name": "stdout",
     "output_type": "stream",
     "text": [
      "1\n"
     ]
    }
   ],
   "source": [
    "torun = seeds\n",
    "# torun = range(1,6)\n",
    "submitted = []\n",
    "print(len(torun))"
   ]
  },
  {
   "cell_type": "code",
   "execution_count": 294,
   "metadata": {
    "scrolled": true
   },
   "outputs": [
    {
     "name": "stdout",
     "output_type": "stream",
     "text": [
      "0\n",
      "2023-08-31 22:58:13 b'Submitted batch job 51542942\\n' None\n",
      "/pool001/shibal/results-synthetic/bashes/large-synthetic-correlated/normal/v27_r1.0/train_size_10000/seed9.sh submitted!\n",
      "job id: 51542942\n"
     ]
    }
   ],
   "source": [
    "exit_code = 1\n",
    "for i, seed in enumerate(seeds):\n",
    "    if i % 100 == 0:\n",
    "        clear_output(wait=True)\n",
    "    print(i)\n",
    "    sh = make_bash_file(seed, version, dist, r)\n",
    "    while True:\n",
    "        process = Popen([\"sbatch\",sh], stdout=PIPE)\n",
    "        (output, err) = process.communicate()\n",
    "        exit_code = process.wait()\n",
    "        print(time.strftime('%Y-%m-%d %H:%M:%S', time.localtime(time.time())),output,err)\n",
    "        if exit_code == 0:\n",
    "            print(sh,\"submitted!\")\n",
    "            tmp_id = str(output)[-11:-3]\n",
    "            print(\"job id:\", tmp_id)\n",
    "            submitted.append(tmp_id)\n",
    "            break\n",
    "        time.sleep(10000)"
   ]
  },
  {
   "cell_type": "code",
   "execution_count": 142,
   "metadata": {},
   "outputs": [],
   "source": [
    "# command = \"\"\"/home/shibal/anaconda3/envs/jasa/bin/python -u /home/shibal/Additive-Models-with-Structured-Interactions/SparseAMsWithInteractions/src/AMsWithInteractionsL0/AMsWithInteractionsL0-Synthetic.py  --dataset large-synthetic --dist normal --seed 0 --train_size 200 --version 19 --r 1.0 |& tee -a /pool001/shibal/results-synthetic/logs/large-synthetic/normal/v19_r1.0/seed0/output_200.txt\"\"\""
   ]
  },
  {
   "cell_type": "code",
   "execution_count": 143,
   "metadata": {},
   "outputs": [],
   "source": [
    "# !{command}"
   ]
  },
  {
   "cell_type": "code",
   "execution_count": 7,
   "metadata": {},
   "outputs": [],
   "source": [
    "from subprocess import Popen, PIPE"
   ]
  },
  {
   "cell_type": "code",
   "execution_count": 39,
   "metadata": {},
   "outputs": [
    {
     "name": "stdout",
     "output_type": "stream",
     "text": [
      "51530768 deleted!\n",
      "51530769 deleted!\n",
      "51530770 deleted!\n",
      "51530771 deleted!\n",
      "51530772 deleted!\n",
      "51530773 deleted!\n",
      "51530774 deleted!\n",
      "51530775 deleted!\n",
      "51530776 deleted!\n",
      "51530777 deleted!\n",
      "51530778 deleted!\n",
      "51530779 deleted!\n",
      "51530780 deleted!\n",
      "51530781 deleted!\n",
      "51530782 deleted!\n",
      "51530783 deleted!\n",
      "51530784 deleted!\n",
      "51530785 deleted!\n",
      "51530786 deleted!\n",
      "51530787 deleted!\n",
      "51530788 deleted!\n"
     ]
    }
   ],
   "source": [
    "for job in range(51530768, 51530789):\n",
    "    process = Popen(['scancel',str(job)], stdout=PIPE)\n",
    "    (output, err) = process.communicate()\n",
    "    exit_code = process.wait()\n",
    "    if exit_code ==0:\n",
    "        print(job, \"deleted!\")"
   ]
  },
  {
   "cell_type": "code",
   "execution_count": 33,
   "metadata": {},
   "outputs": [
    {
     "name": "stdout",
     "output_type": "stream",
     "text": [
      "rm -r /pool001/shibal/results-synthetic/heteroskedastic/N_train_400/seed0/AMsWithInteractionsL0/v13/r1.0\n",
      "rm -r /pool001/shibal/results-synthetic/heteroskedastic/N_train_400/seed1/AMsWithInteractionsL0/v13/r1.0\n",
      "rm -r /pool001/shibal/results-synthetic/heteroskedastic/N_train_400/seed2/AMsWithInteractionsL0/v13/r1.0\n",
      "rm -r /pool001/shibal/results-synthetic/heteroskedastic/N_train_400/seed3/AMsWithInteractionsL0/v13/r1.0\n",
      "rm -r /pool001/shibal/results-synthetic/heteroskedastic/N_train_400/seed4/AMsWithInteractionsL0/v13/r1.0\n",
      "rm -r /pool001/shibal/results-synthetic/heteroskedastic/N_train_400/seed5/AMsWithInteractionsL0/v13/r1.0\n",
      "rm -r /pool001/shibal/results-synthetic/heteroskedastic/N_train_400/seed6/AMsWithInteractionsL0/v13/r1.0\n",
      "rm -r /pool001/shibal/results-synthetic/heteroskedastic/N_train_400/seed7/AMsWithInteractionsL0/v13/r1.0\n",
      "rm -r /pool001/shibal/results-synthetic/heteroskedastic/N_train_400/seed8/AMsWithInteractionsL0/v13/r1.0\n",
      "rm -r /pool001/shibal/results-synthetic/heteroskedastic/N_train_400/seed9/AMsWithInteractionsL0/v13/r1.0\n",
      "rm -r /pool001/shibal/results-synthetic/heteroskedastic/N_train_400/seed10/AMsWithInteractionsL0/v13/r1.0\n",
      "rm -r /pool001/shibal/results-synthetic/heteroskedastic/N_train_400/seed11/AMsWithInteractionsL0/v13/r1.0\n",
      "rm -r /pool001/shibal/results-synthetic/heteroskedastic/N_train_400/seed12/AMsWithInteractionsL0/v13/r1.0\n",
      "rm -r /pool001/shibal/results-synthetic/heteroskedastic/N_train_400/seed13/AMsWithInteractionsL0/v13/r1.0\n",
      "rm -r /pool001/shibal/results-synthetic/heteroskedastic/N_train_400/seed14/AMsWithInteractionsL0/v13/r1.0\n",
      "rm -r /pool001/shibal/results-synthetic/heteroskedastic/N_train_400/seed15/AMsWithInteractionsL0/v13/r1.0\n",
      "rm -r /pool001/shibal/results-synthetic/heteroskedastic/N_train_400/seed16/AMsWithInteractionsL0/v13/r1.0\n",
      "rm -r /pool001/shibal/results-synthetic/heteroskedastic/N_train_400/seed17/AMsWithInteractionsL0/v13/r1.0\n",
      "rm -r /pool001/shibal/results-synthetic/heteroskedastic/N_train_400/seed18/AMsWithInteractionsL0/v13/r1.0\n",
      "rm -r /pool001/shibal/results-synthetic/heteroskedastic/N_train_400/seed19/AMsWithInteractionsL0/v13/r1.0\n",
      "rm -r /pool001/shibal/results-synthetic/heteroskedastic/N_train_400/seed20/AMsWithInteractionsL0/v13/r1.0\n",
      "rm -r /pool001/shibal/results-synthetic/heteroskedastic/N_train_400/seed21/AMsWithInteractionsL0/v13/r1.0\n",
      "rm -r /pool001/shibal/results-synthetic/heteroskedastic/N_train_400/seed22/AMsWithInteractionsL0/v13/r1.0\n",
      "rm -r /pool001/shibal/results-synthetic/heteroskedastic/N_train_400/seed23/AMsWithInteractionsL0/v13/r1.0\n",
      "rm -r /pool001/shibal/results-synthetic/heteroskedastic/N_train_400/seed24/AMsWithInteractionsL0/v13/r1.0\n",
      "rm -r /pool001/shibal/results-synthetic/heteroskedastic/N_train_400/seed25/AMsWithInteractionsL0/v13/r1.0\n",
      "rm -r /pool001/shibal/results-synthetic/heteroskedastic/N_train_400/seed26/AMsWithInteractionsL0/v13/r1.0\n",
      "rm -r /pool001/shibal/results-synthetic/heteroskedastic/N_train_400/seed27/AMsWithInteractionsL0/v13/r1.0\n",
      "rm -r /pool001/shibal/results-synthetic/heteroskedastic/N_train_400/seed28/AMsWithInteractionsL0/v13/r1.0\n",
      "rm -r /pool001/shibal/results-synthetic/heteroskedastic/N_train_400/seed29/AMsWithInteractionsL0/v13/r1.0\n",
      "rm -r /pool001/shibal/results-synthetic/heteroskedastic/N_train_400/seed30/AMsWithInteractionsL0/v13/r1.0\n",
      "rm -r /pool001/shibal/results-synthetic/heteroskedastic/N_train_400/seed31/AMsWithInteractionsL0/v13/r1.0\n",
      "rm -r /pool001/shibal/results-synthetic/heteroskedastic/N_train_400/seed32/AMsWithInteractionsL0/v13/r1.0\n",
      "rm -r /pool001/shibal/results-synthetic/heteroskedastic/N_train_400/seed33/AMsWithInteractionsL0/v13/r1.0\n",
      "rm -r /pool001/shibal/results-synthetic/heteroskedastic/N_train_400/seed34/AMsWithInteractionsL0/v13/r1.0\n",
      "rm -r /pool001/shibal/results-synthetic/heteroskedastic/N_train_400/seed35/AMsWithInteractionsL0/v13/r1.0\n",
      "rm -r /pool001/shibal/results-synthetic/heteroskedastic/N_train_400/seed36/AMsWithInteractionsL0/v13/r1.0\n",
      "rm -r /pool001/shibal/results-synthetic/heteroskedastic/N_train_400/seed37/AMsWithInteractionsL0/v13/r1.0\n",
      "rm -r /pool001/shibal/results-synthetic/heteroskedastic/N_train_400/seed38/AMsWithInteractionsL0/v13/r1.0\n",
      "rm -r /pool001/shibal/results-synthetic/heteroskedastic/N_train_400/seed39/AMsWithInteractionsL0/v13/r1.0\n",
      "rm -r /pool001/shibal/results-synthetic/heteroskedastic/N_train_400/seed40/AMsWithInteractionsL0/v13/r1.0\n",
      "rm -r /pool001/shibal/results-synthetic/heteroskedastic/N_train_400/seed41/AMsWithInteractionsL0/v13/r1.0\n",
      "rm -r /pool001/shibal/results-synthetic/heteroskedastic/N_train_400/seed42/AMsWithInteractionsL0/v13/r1.0\n",
      "rm -r /pool001/shibal/results-synthetic/heteroskedastic/N_train_400/seed43/AMsWithInteractionsL0/v13/r1.0\n",
      "rm -r /pool001/shibal/results-synthetic/heteroskedastic/N_train_400/seed44/AMsWithInteractionsL0/v13/r1.0\n",
      "rm -r /pool001/shibal/results-synthetic/heteroskedastic/N_train_400/seed45/AMsWithInteractionsL0/v13/r1.0\n",
      "rm -r /pool001/shibal/results-synthetic/heteroskedastic/N_train_400/seed46/AMsWithInteractionsL0/v13/r1.0\n",
      "rm -r /pool001/shibal/results-synthetic/heteroskedastic/N_train_400/seed47/AMsWithInteractionsL0/v13/r1.0\n",
      "rm -r /pool001/shibal/results-synthetic/heteroskedastic/N_train_400/seed48/AMsWithInteractionsL0/v13/r1.0\n",
      "rm -r /pool001/shibal/results-synthetic/heteroskedastic/N_train_400/seed49/AMsWithInteractionsL0/v13/r1.0\n",
      "rm -r /pool001/shibal/results-synthetic/heteroskedastic/N_train_400/seed50/AMsWithInteractionsL0/v13/r1.0\n",
      "rm -r /pool001/shibal/results-synthetic/heteroskedastic/N_train_400/seed51/AMsWithInteractionsL0/v13/r1.0\n",
      "rm -r /pool001/shibal/results-synthetic/heteroskedastic/N_train_400/seed52/AMsWithInteractionsL0/v13/r1.0\n",
      "rm -r /pool001/shibal/results-synthetic/heteroskedastic/N_train_400/seed53/AMsWithInteractionsL0/v13/r1.0\n",
      "rm -r /pool001/shibal/results-synthetic/heteroskedastic/N_train_400/seed54/AMsWithInteractionsL0/v13/r1.0\n",
      "rm -r /pool001/shibal/results-synthetic/heteroskedastic/N_train_400/seed55/AMsWithInteractionsL0/v13/r1.0\n",
      "rm -r /pool001/shibal/results-synthetic/heteroskedastic/N_train_400/seed56/AMsWithInteractionsL0/v13/r1.0\n",
      "rm -r /pool001/shibal/results-synthetic/heteroskedastic/N_train_400/seed57/AMsWithInteractionsL0/v13/r1.0\n",
      "rm -r /pool001/shibal/results-synthetic/heteroskedastic/N_train_400/seed58/AMsWithInteractionsL0/v13/r1.0\n",
      "rm -r /pool001/shibal/results-synthetic/heteroskedastic/N_train_400/seed59/AMsWithInteractionsL0/v13/r1.0\n",
      "rm -r /pool001/shibal/results-synthetic/heteroskedastic/N_train_400/seed60/AMsWithInteractionsL0/v13/r1.0\n",
      "rm -r /pool001/shibal/results-synthetic/heteroskedastic/N_train_400/seed61/AMsWithInteractionsL0/v13/r1.0\n",
      "rm -r /pool001/shibal/results-synthetic/heteroskedastic/N_train_400/seed62/AMsWithInteractionsL0/v13/r1.0\n",
      "rm -r /pool001/shibal/results-synthetic/heteroskedastic/N_train_400/seed63/AMsWithInteractionsL0/v13/r1.0\n",
      "rm -r /pool001/shibal/results-synthetic/heteroskedastic/N_train_400/seed64/AMsWithInteractionsL0/v13/r1.0\n",
      "rm -r /pool001/shibal/results-synthetic/heteroskedastic/N_train_400/seed65/AMsWithInteractionsL0/v13/r1.0\n",
      "rm -r /pool001/shibal/results-synthetic/heteroskedastic/N_train_400/seed66/AMsWithInteractionsL0/v13/r1.0\n",
      "rm -r /pool001/shibal/results-synthetic/heteroskedastic/N_train_400/seed67/AMsWithInteractionsL0/v13/r1.0\n",
      "rm -r /pool001/shibal/results-synthetic/heteroskedastic/N_train_400/seed68/AMsWithInteractionsL0/v13/r1.0\n",
      "rm -r /pool001/shibal/results-synthetic/heteroskedastic/N_train_400/seed69/AMsWithInteractionsL0/v13/r1.0\n",
      "rm -r /pool001/shibal/results-synthetic/heteroskedastic/N_train_400/seed70/AMsWithInteractionsL0/v13/r1.0\n",
      "rm -r /pool001/shibal/results-synthetic/heteroskedastic/N_train_400/seed71/AMsWithInteractionsL0/v13/r1.0\n",
      "rm -r /pool001/shibal/results-synthetic/heteroskedastic/N_train_400/seed72/AMsWithInteractionsL0/v13/r1.0\n",
      "rm -r /pool001/shibal/results-synthetic/heteroskedastic/N_train_400/seed73/AMsWithInteractionsL0/v13/r1.0\n",
      "rm -r /pool001/shibal/results-synthetic/heteroskedastic/N_train_400/seed74/AMsWithInteractionsL0/v13/r1.0\n",
      "rm -r /pool001/shibal/results-synthetic/heteroskedastic/N_train_400/seed75/AMsWithInteractionsL0/v13/r1.0\n",
      "rm -r /pool001/shibal/results-synthetic/heteroskedastic/N_train_400/seed76/AMsWithInteractionsL0/v13/r1.0\n",
      "rm -r /pool001/shibal/results-synthetic/heteroskedastic/N_train_400/seed77/AMsWithInteractionsL0/v13/r1.0\n"
     ]
    },
    {
     "name": "stdout",
     "output_type": "stream",
     "text": [
      "rm -r /pool001/shibal/results-synthetic/heteroskedastic/N_train_400/seed78/AMsWithInteractionsL0/v13/r1.0\n",
      "rm -r /pool001/shibal/results-synthetic/heteroskedastic/N_train_400/seed79/AMsWithInteractionsL0/v13/r1.0\n",
      "rm -r /pool001/shibal/results-synthetic/heteroskedastic/N_train_400/seed80/AMsWithInteractionsL0/v13/r1.0\n",
      "rm -r /pool001/shibal/results-synthetic/heteroskedastic/N_train_400/seed81/AMsWithInteractionsL0/v13/r1.0\n",
      "rm -r /pool001/shibal/results-synthetic/heteroskedastic/N_train_400/seed82/AMsWithInteractionsL0/v13/r1.0\n",
      "rm -r /pool001/shibal/results-synthetic/heteroskedastic/N_train_400/seed83/AMsWithInteractionsL0/v13/r1.0\n",
      "rm -r /pool001/shibal/results-synthetic/heteroskedastic/N_train_400/seed84/AMsWithInteractionsL0/v13/r1.0\n",
      "rm -r /pool001/shibal/results-synthetic/heteroskedastic/N_train_400/seed85/AMsWithInteractionsL0/v13/r1.0\n",
      "rm -r /pool001/shibal/results-synthetic/heteroskedastic/N_train_400/seed86/AMsWithInteractionsL0/v13/r1.0\n",
      "rm -r /pool001/shibal/results-synthetic/heteroskedastic/N_train_400/seed87/AMsWithInteractionsL0/v13/r1.0\n",
      "rm -r /pool001/shibal/results-synthetic/heteroskedastic/N_train_400/seed88/AMsWithInteractionsL0/v13/r1.0\n",
      "rm -r /pool001/shibal/results-synthetic/heteroskedastic/N_train_400/seed89/AMsWithInteractionsL0/v13/r1.0\n",
      "rm -r /pool001/shibal/results-synthetic/heteroskedastic/N_train_400/seed90/AMsWithInteractionsL0/v13/r1.0\n",
      "rm -r /pool001/shibal/results-synthetic/heteroskedastic/N_train_400/seed91/AMsWithInteractionsL0/v13/r1.0\n",
      "rm -r /pool001/shibal/results-synthetic/heteroskedastic/N_train_400/seed92/AMsWithInteractionsL0/v13/r1.0\n",
      "rm -r /pool001/shibal/results-synthetic/heteroskedastic/N_train_400/seed93/AMsWithInteractionsL0/v13/r1.0\n",
      "rm -r /pool001/shibal/results-synthetic/heteroskedastic/N_train_400/seed94/AMsWithInteractionsL0/v13/r1.0\n",
      "rm -r /pool001/shibal/results-synthetic/heteroskedastic/N_train_400/seed95/AMsWithInteractionsL0/v13/r1.0\n",
      "rm -r /pool001/shibal/results-synthetic/heteroskedastic/N_train_400/seed96/AMsWithInteractionsL0/v13/r1.0\n",
      "rm -r /pool001/shibal/results-synthetic/heteroskedastic/N_train_400/seed97/AMsWithInteractionsL0/v13/r1.0\n",
      "rm -r /pool001/shibal/results-synthetic/heteroskedastic/N_train_400/seed98/AMsWithInteractionsL0/v13/r1.0\n",
      "rm -r /pool001/shibal/results-synthetic/heteroskedastic/N_train_400/seed99/AMsWithInteractionsL0/v13/r1.0\n"
     ]
    }
   ],
   "source": [
    "for seed in range(100):\n",
    "    command = f\"\"\"rm -r /pool001/shibal/results-synthetic/heteroskedastic/N_train_400/seed{seed}/AMsWithInteractionsL0/v13/r1.0\"\"\"\n",
    "    print(command)\n",
    "    !{command}"
   ]
  },
  {
   "cell_type": "code",
   "execution_count": 3,
   "metadata": {},
   "outputs": [],
   "source": [
    "import numpy as np\n",
    "from sklearn.metrics import f1_score"
   ]
  },
  {
   "cell_type": "code",
   "execution_count": 327,
   "metadata": {
    "scrolled": true
   },
   "outputs": [
    {
     "name": "stdout",
     "output_type": "stream",
     "text": [
      "====================r: 1.0\n",
      "Seed:  0  mise: 0.5393697160505195\n",
      "====================r: 1.5\n",
      "Seed:  0  mise: 0.4319823835259618\n",
      "====================r: 2.0\n",
      "Seed:  0  mise: 0.35456598252436805\n",
      "====================r: 1.0\n",
      "Seed:  1  mise: 0.6414779469769012\n",
      "====================r: 1.5\n",
      "Seed:  1  mise: 0.4378220214172392\n",
      "====================r: 2.0\n",
      "Seed:  1  mise: 0.25183294371762016\n",
      "====================r: 1.0\n",
      "Seed:  2  mise: 0.4789501975236292\n",
      "====================r: 1.5\n",
      "Seed:  2  mise: 0.5023752947442534\n",
      "====================r: 2.0\n",
      "Seed:  2  mise: 0.5288233853453764\n",
      "====================r: 1.0\n",
      "Seed:  3  mise: 0.5442494873471212\n",
      "====================r: 1.5\n",
      "Seed:  3  mise: 0.5000601841849852\n",
      "====================r: 2.0\n",
      "Seed:  3  mise: 0.5416363932223489\n",
      "====================r: 1.0\n",
      "Seed:  4  mise: 0.6520175903628073\n",
      "====================r: 1.5\n",
      "Seed:  4  mise: 0.8512488542127546\n",
      "====================r: 2.0\n",
      "Seed:  4  mise: 0.8056728460878708\n",
      "====================r: 1.0\n",
      "Seed:  5  mise: 0.45440530053253586\n",
      "====================r: 1.5\n",
      "Seed:  5  mise: 0.43475896247773355\n",
      "====================r: 2.0\n",
      "Seed:  5  mise: 0.29168185484066694\n",
      "====================r: 1.0\n",
      "Seed:  6  mise: 1.59165026801604\n",
      "====================r: 1.5\n",
      "Seed:  6  mise: 0.6120744490832223\n",
      "====================r: 2.0\n",
      "Seed:  6  mise: 0.5718768240246893\n",
      "====================r: 1.0\n",
      "Seed:  7  mise: 0.3539534580081315\n",
      "====================r: 1.5\n",
      "Seed:  7  mise: 0.47300210526696657\n",
      "====================r: 2.0\n",
      "Seed:  7  mise: 0.302630282341569\n",
      "====================r: 1.0\n",
      "Seed:  8  mise: 0.8004043275867982\n",
      "====================r: 1.5\n",
      "Seed:  8  mise: 0.3570268316628754\n",
      "====================r: 2.0\n",
      "Seed:  8  mise: 0.3647183587495415\n",
      "====================r: 1.0\n",
      "Seed:  9  mise: 0.4786297833462445\n",
      "====================r: 1.5\n",
      "Seed:  9  mise: 0.4105447643774115\n",
      "====================r: 2.0\n",
      "Seed:  9  mise: 0.3982593257843995\n",
      "====================r: 1.0\n",
      "====================r: 1.5\n",
      "====================r: 2.0\n",
      "====================r: 1.0\n",
      "====================r: 1.5\n",
      "====================r: 2.0\n",
      "====================r: 1.0\n",
      "====================r: 1.5\n",
      "====================r: 2.0\n",
      "====================r: 1.0\n",
      "====================r: 1.5\n",
      "====================r: 2.0\n",
      "====================r: 1.0\n",
      "====================r: 1.5\n",
      "====================r: 2.0\n",
      "====================r: 1.0\n",
      "====================r: 1.5\n",
      "====================r: 2.0\n",
      "====================r: 1.0\n",
      "====================r: 1.5\n",
      "====================r: 2.0\n",
      "====================r: 1.0\n",
      "====================r: 1.5\n",
      "====================r: 2.0\n",
      "====================r: 1.0\n",
      "====================r: 1.5\n",
      "====================r: 2.0\n",
      "====================r: 1.0\n",
      "====================r: 1.5\n",
      "====================r: 2.0\n",
      "====================r: 1.0\n",
      "====================r: 1.5\n",
      "====================r: 2.0\n",
      "====================r: 1.0\n",
      "====================r: 1.5\n",
      "====================r: 2.0\n",
      "====================r: 1.0\n",
      "====================r: 1.5\n",
      "====================r: 2.0\n",
      "====================r: 1.0\n",
      "====================r: 1.5\n",
      "====================r: 2.0\n",
      "====================r: 1.0\n",
      "====================r: 1.5\n",
      "====================r: 2.0\n"
     ]
    }
   ],
   "source": [
    "rs = [1.0, 1.5, 2.0]\n",
    "vals = {1.0: {}, 1.5: {}, 2.0: {}}\n",
    "MISE = {1.0: {}, 1.5: {}, 2.0: {}}\n",
    "mains = {1.0: {}, 1.5: {}, 2.0: {}}\n",
    "interactions = {1.0: {}, 1.5: {}, 2.0: {}}\n",
    "features = {1.0: {}, 1.5: {}, 2.0: {}}\n",
    "fprs_main = {1.0: {}, 1.5: {}, 2.0: {}}\n",
    "fnrs_main = {1.0: {}, 1.5: {}, 2.0: {}}\n",
    "f1s_main = {1.0: {}, 1.5: {}, 2.0: {}}\n",
    "fprs_interaction = {1.0: {}, 1.5: {}, 2.0: {}}\n",
    "fnrs_interaction = {1.0: {}, 1.5: {}, 2.0: {}}\n",
    "f1s_interaction = {1.0: {}, 1.5: {}, 2.0: {}}\n",
    "f1s_feature = {1.0: {}, 1.5: {}, 2.0: {}}\n",
    "\n",
    "data = 'large-synthetic-correlated'\n",
    "train_size = 1000\n",
    "version = 26\n",
    "for seed in np.arange(25):\n",
    "    filename = f\"/pool001/shibal/results-synthetic/{data}/normal/N_train_{train_size}/seed{seed}/AMsWithInteractionsL0/v{version}\"\n",
    "    \n",
    "    for r in rs:\n",
    "        print(f\"====================r: {r}\")\n",
    "        try:\n",
    "            with open(filename+f\"/r{r}/Results.txt\") as file:\n",
    "                lines = file.readlines()\n",
    "                val = float([line for line in lines if \"val:\" in line and \"Optimal\" in line][0].split(\"val: \")[-1].split(\",\")[0])\n",
    "                mise = float([line for line in lines if \"True\" in line][0].split(\" \")[-1].split(\"\\n\")[0])\n",
    "                fpr_main = float([line for line in lines if \"FPR (main)\" in line][0].split(\" \")[-1].split(\"\\n\")[0])\n",
    "                fnr_main = float([line for line in lines if \"FNR (main)\" in line][0].split(\" \")[-1].split(\"\\n\")[0])\n",
    "                f1_main = float([line for line in lines if \"F1 (main)\" in line][0].split(\" \")[-1].split(\"\\n\")[0])\n",
    "                fpr_interaction = float([line for line in lines if \"FPR (interactions)\" in line][0].split(\" \")[-1].split(\"\\n\")[0])\n",
    "                fnr_interaction = float([line for line in lines if \"FNR (interactions)\" in line][0].split(\" \")[-1].split(\"\\n\")[0])\n",
    "                f1_interaction = float([line for line in lines if \"F1 (interactions)\" in line][0].split(\" \")[-1].split(\"\\n\")[0])\n",
    "                vals[r][seed] = val\n",
    "                MISE[r][seed] = mise\n",
    "                fprs_main[r][seed] = fpr_main\n",
    "                fnrs_main[r][seed] = fnr_main\n",
    "                f1s_main[r][seed] = f1_main\n",
    "                fprs_interaction[r][seed] = fpr_interaction\n",
    "                fnrs_interaction[r][seed] = fnr_interaction\n",
    "                f1s_interaction[r][seed] = f1_interaction\n",
    "                print(\"Seed: \", seed, \" mise:\", mise)\n",
    "\n",
    "            with open(filename+f\"/r{r}/support_set.npy\", 'rb') as f:\n",
    "                main_set = np.load(f)\n",
    "                interaction_set = np.load(f)\n",
    "                mains[r][seed] = main_set\n",
    "                interactions[r][seed] = interaction_set\n",
    "                feature_set = np.unique(list(main_set)+list(np.unique(interaction_set)))\n",
    "                features[r][seed] = feature_set\n",
    "                if data in ['large-synthetic', 'large-synthetic-correlated']:\n",
    "                    p = 500\n",
    "                    k = 10\n",
    "                    feature_support_truth = np.zeros(p)\n",
    "                    true_support = np.arange((int)(p/(2*k)),p,(int)(p/k))\n",
    "                    feature_support_truth[true_support] = 1\n",
    "                    feature_support_recovered = np.zeros(p)\n",
    "                    feature_support_recovered[feature_set] = 1\n",
    "                    f1_feature = f1_score(feature_support_truth, feature_support_recovered)\n",
    "                    f1s_feature[r][seed] = f1_feature\n",
    "                elif data in ['large-synthetic-correlated-aoas']:\n",
    "                    p = 500\n",
    "                    k = 50\n",
    "                    feature_support_truth = np.zeros(p)\n",
    "                    true_support = np.arange((int)(p/(2*k)),p,(int)(p/k))\n",
    "                    feature_support_truth[true_support] = 1\n",
    "                    feature_support_recovered = np.zeros(p)\n",
    "                    feature_support_recovered[feature_set] = 1\n",
    "                    f1_feature = f1_score(feature_support_truth, feature_support_recovered)\n",
    "                    f1s_feature[r][seed] = f1_feature\n",
    "        except:\n",
    "            pass"
   ]
  },
  {
   "cell_type": "code",
   "execution_count": 328,
   "metadata": {},
   "outputs": [
    {
     "data": {
      "text/html": [
       "<div>\n",
       "<style scoped>\n",
       "    .dataframe tbody tr th:only-of-type {\n",
       "        vertical-align: middle;\n",
       "    }\n",
       "\n",
       "    .dataframe tbody tr th {\n",
       "        vertical-align: top;\n",
       "    }\n",
       "\n",
       "    .dataframe thead th {\n",
       "        text-align: right;\n",
       "    }\n",
       "</style>\n",
       "<table border=\"1\" class=\"dataframe\">\n",
       "  <thead>\n",
       "    <tr style=\"text-align: right;\">\n",
       "      <th></th>\n",
       "      <th>1.0</th>\n",
       "      <th>1.5</th>\n",
       "      <th>2.0</th>\n",
       "    </tr>\n",
       "  </thead>\n",
       "  <tbody>\n",
       "    <tr>\n",
       "      <th>0</th>\n",
       "      <td>0.412997</td>\n",
       "      <td>0.403774</td>\n",
       "      <td>0.348254</td>\n",
       "    </tr>\n",
       "    <tr>\n",
       "      <th>1</th>\n",
       "      <td>0.651774</td>\n",
       "      <td>0.670382</td>\n",
       "      <td>0.576583</td>\n",
       "    </tr>\n",
       "    <tr>\n",
       "      <th>2</th>\n",
       "      <td>0.444973</td>\n",
       "      <td>0.459593</td>\n",
       "      <td>0.443418</td>\n",
       "    </tr>\n",
       "    <tr>\n",
       "      <th>3</th>\n",
       "      <td>1.088797</td>\n",
       "      <td>1.072816</td>\n",
       "      <td>1.089403</td>\n",
       "    </tr>\n",
       "    <tr>\n",
       "      <th>4</th>\n",
       "      <td>0.315565</td>\n",
       "      <td>0.522892</td>\n",
       "      <td>0.440825</td>\n",
       "    </tr>\n",
       "    <tr>\n",
       "      <th>5</th>\n",
       "      <td>0.344888</td>\n",
       "      <td>0.337047</td>\n",
       "      <td>0.304718</td>\n",
       "    </tr>\n",
       "    <tr>\n",
       "      <th>6</th>\n",
       "      <td>2.800724</td>\n",
       "      <td>1.424542</td>\n",
       "      <td>1.346226</td>\n",
       "    </tr>\n",
       "    <tr>\n",
       "      <th>7</th>\n",
       "      <td>0.442155</td>\n",
       "      <td>0.571197</td>\n",
       "      <td>0.469855</td>\n",
       "    </tr>\n",
       "    <tr>\n",
       "      <th>8</th>\n",
       "      <td>1.323556</td>\n",
       "      <td>0.931974</td>\n",
       "      <td>1.063618</td>\n",
       "    </tr>\n",
       "    <tr>\n",
       "      <th>9</th>\n",
       "      <td>0.407547</td>\n",
       "      <td>0.332049</td>\n",
       "      <td>0.273934</td>\n",
       "    </tr>\n",
       "  </tbody>\n",
       "</table>\n",
       "</div>"
      ],
      "text/plain": [
       "        1.0       1.5       2.0\n",
       "0  0.412997  0.403774  0.348254\n",
       "1  0.651774  0.670382  0.576583\n",
       "2  0.444973  0.459593  0.443418\n",
       "3  1.088797  1.072816  1.089403\n",
       "4  0.315565  0.522892  0.440825\n",
       "5  0.344888  0.337047  0.304718\n",
       "6  2.800724  1.424542  1.346226\n",
       "7  0.442155  0.571197  0.469855\n",
       "8  1.323556  0.931974  1.063618\n",
       "9  0.407547  0.332049  0.273934"
      ]
     },
     "metadata": {},
     "output_type": "display_data"
    }
   ],
   "source": [
    "vals = pd.DataFrame(vals)\n",
    "display(vals)\n",
    "MISE = pd.DataFrame(MISE)\n",
    "fprs_main = pd.DataFrame(fprs_main)\n",
    "fnrs_main = pd.DataFrame(fnrs_main)\n",
    "f1s_main = pd.DataFrame(f1s_main)\n",
    "fprs_interaction = pd.DataFrame(fprs_interaction)\n",
    "fnrs_interaction = pd.DataFrame(fnrs_interaction)\n",
    "f1s_interaction = pd.DataFrame(f1s_interaction)\n",
    "f1s_feature = pd.DataFrame(f1s_feature)\n",
    "best_r = {}\n",
    "\n",
    "for index in vals.index:\n",
    "    r = vals.loc[index][vals.loc[index]==vals.loc[index].min()].index\n",
    "    best_r[index] = r[0]\n",
    "    vals.loc[index, \"best\"] = np.array(vals.loc[index, r])[0]\n",
    "    MISE.loc[index, \"best\"] = np.array(MISE.loc[index, r])[0]\n",
    "    fprs_main.loc[index, \"best\"] = np.array(fprs_main.loc[index, r])[0]\n",
    "    fnrs_main.loc[index, \"best\"] = np.array(fnrs_main.loc[index, r])[0]\n",
    "    f1s_main.loc[index, \"best\"] = np.array(f1s_main.loc[index, r])[0]\n",
    "    fprs_interaction.loc[index, \"best\"] = np.array(fprs_interaction.loc[index, r])[0]\n",
    "    fnrs_interaction.loc[index, \"best\"] = np.array(fnrs_interaction.loc[index, r])[0]\n",
    "    f1s_interaction.loc[index, \"best\"] = np.array(f1s_interaction.loc[index, r])[0]\n",
    "    f1s_feature.loc[index, \"best\"] = np.array(f1s_feature.loc[index, r])[0]\n",
    "\n",
    "vals = vals[[\"best\"]].values\n",
    "MISE = MISE[[\"best\"]].values\n",
    "fprs_main = fprs_main[[\"best\"]].values\n",
    "fnrs_main = fnrs_main[[\"best\"]].values\n",
    "f1s_main = f1s_main[[\"best\"]].values\n",
    "fprs_interaction = fprs_interaction[[\"best\"]].values\n",
    "fnrs_interaction = fnrs_interaction[[\"best\"]].values\n",
    "f1s_interaction = f1s_interaction[[\"best\"]].values\n",
    "f1s_feature = f1s_feature[[\"best\"]].values"
   ]
  },
  {
   "cell_type": "code",
   "execution_count": 329,
   "metadata": {},
   "outputs": [
    {
     "data": {
      "text/plain": [
       "10"
      ]
     },
     "execution_count": 329,
     "metadata": {},
     "output_type": "execute_result"
    }
   ],
   "source": [
    "len(MISE)"
   ]
  },
  {
   "cell_type": "code",
   "execution_count": 330,
   "metadata": {},
   "outputs": [
    {
     "name": "stdout",
     "output_type": "stream",
     "text": [
      "val: 0.6055642999999999 std-err: 0.11305204427705408\n",
      "MISE: 0.42600983804559195 std-err: 0.03906628355291451\n",
      "FPR (main): 0.0 std-err: 0.0\n",
      "FNR (main): 0.27999999999999997 std-err: 0.10178408519999578\n",
      "F1 (main): 0.7847452856740783 std-err: 0.08950325360472151\n",
      "FPR (interactions): 5.611582305875551e-06 std-err: 2.5476982222633378e-06\n",
      "FNR (interactions): 0.3375 std-err: 0.05604127942864974\n",
      "F1 (interactions): 0.7448107448107447 std-err: 0.04666511403331998\n",
      "F1 (feature): 0.990909090909091 std-err: 0.008624393618641035\n"
     ]
    }
   ],
   "source": [
    "print(\"val:\", np.mean(vals), \"std-err:\", np.std(vals)/np.sqrt(len(vals)))\n",
    "print(\"MISE:\", np.mean(MISE), \"std-err:\", np.std(MISE)/np.sqrt(len(MISE)))\n",
    "print(\"FPR (main):\", np.mean(fprs_main), \"std-err:\", np.std(fprs_main)/np.sqrt(len(fprs_main)))\n",
    "print(\"FNR (main):\", np.mean(fnrs_main), \"std-err:\", np.std(fnrs_main)/np.sqrt(len(fnrs_main)))\n",
    "print(\"F1 (main):\", np.mean(f1s_main), \"std-err:\", np.std(f1s_main)/np.sqrt(len(f1s_main)))\n",
    "print(\"FPR (interactions):\", np.mean(fprs_interaction), \"std-err:\", np.std(fprs_interaction)/np.sqrt(len(fprs_interaction)))\n",
    "print(\"FNR (interactions):\", np.mean(fnrs_interaction), \"std-err:\", np.std(fnrs_interaction)/np.sqrt(len(fnrs_interaction)))\n",
    "print(\"F1 (interactions):\", np.mean(f1s_interaction), \"std-err:\", np.std(f1s_interaction)/np.sqrt(len(f1s_interaction)))\n",
    "print(\"F1 (feature):\", np.mean(f1s_feature), \"std-err:\", np.std(f1s_feature)/np.sqrt(len(f1s_feature)))\n"
   ]
  },
  {
   "cell_type": "code",
   "execution_count": 324,
   "metadata": {},
   "outputs": [
    {
     "name": "stdout",
     "output_type": "stream",
     "text": [
      "Number of features:  10.1\n",
      "Number of main effects:  7.3\n",
      "Number of interaction effects:  8.3\n"
     ]
    }
   ],
   "source": [
    "print(\"Number of features: \", np.mean([len(features[r][(int)(seed)]) for seed, r in best_r.items()]))\n",
    "print(\"Number of main effects: \", np.mean([len(mains[r][(int)(seed)]) for seed, r in best_r.items()]))\n",
    "print(\"Number of interaction effects: \", np.mean([len(interactions[r][(int)(seed)]) for seed, r in best_r.items()]))"
   ]
  },
  {
   "cell_type": "code",
   "execution_count": 325,
   "metadata": {},
   "outputs": [
    {
     "data": {
      "text/plain": [
       "array([[0.04917082],\n",
       "       [0.06657216],\n",
       "       [0.10749127],\n",
       "       [0.09214344],\n",
       "       [0.07691014],\n",
       "       [0.11202801],\n",
       "       [0.14267347],\n",
       "       [0.11816495],\n",
       "       [0.15066906],\n",
       "       [0.13803617]])"
      ]
     },
     "execution_count": 325,
     "metadata": {},
     "output_type": "execute_result"
    }
   ],
   "source": [
    "MISE"
   ]
  },
  {
   "cell_type": "code",
   "execution_count": 113,
   "metadata": {},
   "outputs": [
    {
     "data": {
      "text/plain": [
       "0.35089365276967033"
      ]
     },
     "execution_count": 113,
     "metadata": {},
     "output_type": "execute_result"
    }
   ],
   "source": [
    "np.median(MISE)"
   ]
  },
  {
   "cell_type": "code",
   "execution_count": 11,
   "metadata": {},
   "outputs": [
    {
     "data": {
      "text/plain": [
       "[Int64Index([0], dtype='int64'),\n",
       " Index([0], dtype='object'),\n",
       " Index([0], dtype='object'),\n",
       " Index([0], dtype='object'),\n",
       " Index([0], dtype='object'),\n",
       " Index([0], dtype='object'),\n",
       " Index([0], dtype='object'),\n",
       " Index([0], dtype='object'),\n",
       " Index([0], dtype='object'),\n",
       " Index([0], dtype='object')]"
      ]
     },
     "execution_count": 11,
     "metadata": {},
     "output_type": "execute_result"
    }
   ],
   "source": [
    "best_r"
   ]
  },
  {
   "cell_type": "code",
   "execution_count": 371,
   "metadata": {},
   "outputs": [
    {
     "ename": "TypeError",
     "evalue": "The first input argument needs to be a sequence",
     "output_type": "error",
     "traceback": [
      "\u001b[0;31m---------------------------------------------------------------------------\u001b[0m",
      "\u001b[0;31mTypeError\u001b[0m                                 Traceback (most recent call last)",
      "\u001b[0;32m<ipython-input-371-758661655894>\u001b[0m in \u001b[0;36m<module>\u001b[0;34m\u001b[0m\n\u001b[0;32m----> 1\u001b[0;31m \u001b[0mnp\u001b[0m\u001b[0;34m.\u001b[0m\u001b[0munique\u001b[0m\u001b[0;34m(\u001b[0m\u001b[0mnp\u001b[0m\u001b[0;34m.\u001b[0m\u001b[0mconcatenate\u001b[0m\u001b[0;34m(\u001b[0m\u001b[0mmains\u001b[0m\u001b[0;34m)\u001b[0m\u001b[0;34m.\u001b[0m\u001b[0mravel\u001b[0m\u001b[0;34m(\u001b[0m\u001b[0;34m)\u001b[0m\u001b[0;34m,\u001b[0m \u001b[0mreturn_counts\u001b[0m\u001b[0;34m=\u001b[0m\u001b[0;32mTrue\u001b[0m\u001b[0;34m)\u001b[0m\u001b[0;34m\u001b[0m\u001b[0;34m\u001b[0m\u001b[0m\n\u001b[0m",
      "\u001b[0;32m<__array_function__ internals>\u001b[0m in \u001b[0;36mconcatenate\u001b[0;34m(*args, **kwargs)\u001b[0m\n",
      "\u001b[0;31mTypeError\u001b[0m: The first input argument needs to be a sequence"
     ]
    }
   ],
   "source": [
    "np.unique(np.concatenate(mains).ravel(), return_counts=True)"
   ]
  },
  {
   "cell_type": "code",
   "execution_count": 29,
   "metadata": {},
   "outputs": [
    {
     "data": {
      "text/plain": [
       "(array([[ 25,  75],\n",
       "        [ 25, 125],\n",
       "        [ 75, 125],\n",
       "        [ 75, 175],\n",
       "        [125, 175],\n",
       "        [125, 375],\n",
       "        [125, 425],\n",
       "        [175, 375],\n",
       "        [175, 425],\n",
       "        [325, 375],\n",
       "        [375, 425],\n",
       "        [425, 475]]),\n",
       " array([15, 15,  1,  1, 15,  1,  1,  1,  1, 12,  1, 10]))"
      ]
     },
     "execution_count": 29,
     "metadata": {},
     "output_type": "execute_result"
    }
   ],
   "source": [
    "interactions = [inter for inter in interactions if len(inter)>0]\n",
    "np.unique(np.concatenate(interactions, axis=0), return_counts=True, axis=0)"
   ]
  },
  {
   "cell_type": "code",
   "execution_count": null,
   "metadata": {},
   "outputs": [],
   "source": []
  },
  {
   "cell_type": "code",
   "execution_count": null,
   "metadata": {},
   "outputs": [],
   "source": []
  },
  {
   "cell_type": "code",
   "execution_count": null,
   "metadata": {},
   "outputs": [],
   "source": []
  },
  {
   "cell_type": "code",
   "execution_count": 436,
   "metadata": {},
   "outputs": [],
   "source": [
    "from sklearn.metrics import f1_score"
   ]
  },
  {
   "cell_type": "code",
   "execution_count": 439,
   "metadata": {},
   "outputs": [
    {
     "data": {
      "text/plain": [
       "0.6666666666666665"
      ]
     },
     "execution_count": 439,
     "metadata": {},
     "output_type": "execute_result"
    }
   ],
   "source": [
    "f1_score([1,1,1,1,0,0,0,0,0,0], [1,1,1,0,0,1,1,0,0,0])"
   ]
  },
  {
   "cell_type": "code",
   "execution_count": null,
   "metadata": {},
   "outputs": [],
   "source": []
  }
 ],
 "metadata": {
  "kernelspec": {
   "display_name": "Python [conda env:jasa] *",
   "language": "python",
   "name": "conda-env-jasa-py"
  },
  "language_info": {
   "codemirror_mode": {
    "name": "ipython",
    "version": 3
   },
   "file_extension": ".py",
   "mimetype": "text/x-python",
   "name": "python",
   "nbconvert_exporter": "python",
   "pygments_lexer": "ipython3",
   "version": "3.6.12"
  }
 },
 "nbformat": 4,
 "nbformat_minor": 4
}
