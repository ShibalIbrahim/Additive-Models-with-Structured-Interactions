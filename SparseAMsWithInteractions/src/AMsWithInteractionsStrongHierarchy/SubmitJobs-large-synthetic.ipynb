{
 "cells": [
  {
   "cell_type": "code",
   "execution_count": 118,
   "metadata": {},
   "outputs": [],
   "source": [
    "import numpy as np\n",
    "import pandas as pd\n",
    "import os\n",
    "import shutil\n",
    "from subprocess import Popen, PIPE\n",
    "from IPython.display import clear_output\n",
    "import time"
   ]
  },
  {
   "cell_type": "code",
   "execution_count": 125,
   "metadata": {},
   "outputs": [],
   "source": [
    "PYPATH = '/home/shibal/anaconda3/envs/jasa/bin/python'\n",
    "FILEPATH = '/home/shibal/Additive-Models-with-Structured-Interactions/SparseAMsWithInteractions/src/AMsWithInteractionsStrongHierarchy/AMsWithInteractionsStrongHierarchy-Synthetic.py'\n",
    "PATH = \"/pool001/shibal/results-synthetic\"\n",
    "\n",
    "version = 23\n",
    "# n = 100\n",
    "r = 1.0\n",
    "train_size = 1000\n",
    "dataset = 'large-synthetic'\n",
    "dist = 'normal'"
   ]
  },
  {
   "cell_type": "code",
   "execution_count": 126,
   "metadata": {},
   "outputs": [],
   "source": [
    "def make_bash_file(seed, version, dist, r):\n",
    "    bash_folder_path = f\"{PATH}/bashes/{dataset}/{dist}/train_size_{train_size}/v{version}_r{r}\"\n",
    "    bash_file_path = os.path.join(bash_folder_path, \"seed{}.sh\".format(seed))\n",
    "    log_path = f\"{PATH}/logs/{dataset}/{dist}/train_size_{train_size}/v{version}_r{r}/seed{seed}\"\n",
    "    os.makedirs(bash_folder_path,exist_ok=True)\n",
    "    os.makedirs(log_path,exist_ok=True)\n",
    "    with open(bash_file_path,\"w\") as f:\n",
    "        f.write(\"#!/bin/bash\\n\")\n",
    "        f.write(\"#SBATCH --cpus-per-task=2\\n\")\n",
    "        f.write(\"#SBATCH --time=1-00:00\\n\")\n",
    "        f.write(\"#SBATCH --mem=32G\\n\")\n",
    "#         f.write(\"#SBATCH -p sched_mit_sloan_batch\\n\")\n",
    "        f.write(\"#SBATCH -p sched_mit_sloan_interactive\\n\")\n",
    "        f.write(\"#SBATCH --mail-type=FAIL\\n\")\n",
    "        f.write(\"#SBATCH --mail-user=shibal@mit.edu\\n\")\n",
    "        f.write(f\"#SBATCH -o {log_path}/seed{seed}_%j.out\\n\")\n",
    "        f.write(f\"#SBATCH -e {log_path}/_seed{seed}_%j.err\\n\\n\")\n",
    "        f.write(\"module load sloan/python/modules/python-3.6/gurobipy/9.0.1\\n\\n\")\n",
    "        f.write(f\"{PYPATH} -u {FILEPATH} --dataset {dataset} --dist {dist} --seed {seed} --train_size {train_size} --version {version} --r {r} |& tee -a {log_path}/output.txt\") \n",
    "    return bash_file_path\n"
   ]
  },
  {
   "cell_type": "code",
   "execution_count": 127,
   "metadata": {},
   "outputs": [],
   "source": [
    "bash_files = []\n",
    "seeds = np.arange(25)\n",
    "for seed in seeds:\n",
    "    bash_files.append(make_bash_file(seed, version, dist, r))"
   ]
  },
  {
   "cell_type": "code",
   "execution_count": 128,
   "metadata": {},
   "outputs": [
    {
     "name": "stdout",
     "output_type": "stream",
     "text": [
      "25\n"
     ]
    }
   ],
   "source": [
    "torun = seeds\n",
    "# torun = range(1,6)\n",
    "submitted = []\n",
    "print(len(torun))"
   ]
  },
  {
   "cell_type": "code",
   "execution_count": 129,
   "metadata": {},
   "outputs": [],
   "source": [
    "# command = \"\"\"/home/shibal/anaconda3/envs/jasa/bin/python -u /home/shibal/Additive-Models-with-Structured-Interactions/SparseAMsWithInteractions/src/AMsWithInteractionsStrongHierarchy/AMsWithInteractionsStrongHierarchy-Synthetic.py --dataset large-synthetic --dist normal --seed 0 --train_size 1000 --version 21 --r 1.0 |& tee -a /pool001/shibal/results-synthetic/logs/large-synthetic/normal/v21_r1.0/seed0/output.txt\"\"\"\n",
    "# !{command}"
   ]
  },
  {
   "cell_type": "code",
   "execution_count": 130,
   "metadata": {
    "scrolled": true
   },
   "outputs": [
    {
     "name": "stdout",
     "output_type": "stream",
     "text": [
      "0\n",
      "2023-08-25 06:41:45 b'Submitted batch job 51347003\\n' None\n",
      "/pool001/shibal/results-synthetic/bashes/large-synthetic/normal/train_size_1000/v23_r1.0/seed0.sh submitted!\n",
      "job id: 51347003\n",
      "1\n",
      "2023-08-25 06:41:45 b'Submitted batch job 51347004\\n' None\n",
      "/pool001/shibal/results-synthetic/bashes/large-synthetic/normal/train_size_1000/v23_r1.0/seed1.sh submitted!\n",
      "job id: 51347004\n",
      "2\n",
      "2023-08-25 06:41:46 b'Submitted batch job 51347005\\n' None\n",
      "/pool001/shibal/results-synthetic/bashes/large-synthetic/normal/train_size_1000/v23_r1.0/seed2.sh submitted!\n",
      "job id: 51347005\n",
      "3\n",
      "2023-08-25 06:41:46 b'Submitted batch job 51347006\\n' None\n",
      "/pool001/shibal/results-synthetic/bashes/large-synthetic/normal/train_size_1000/v23_r1.0/seed3.sh submitted!\n",
      "job id: 51347006\n",
      "4\n",
      "2023-08-25 06:41:46 b'Submitted batch job 51347007\\n' None\n",
      "/pool001/shibal/results-synthetic/bashes/large-synthetic/normal/train_size_1000/v23_r1.0/seed4.sh submitted!\n",
      "job id: 51347007\n",
      "5\n",
      "2023-08-25 06:41:47 b'Submitted batch job 51347008\\n' None\n",
      "/pool001/shibal/results-synthetic/bashes/large-synthetic/normal/train_size_1000/v23_r1.0/seed5.sh submitted!\n",
      "job id: 51347008\n",
      "6\n",
      "2023-08-25 06:41:47 b'Submitted batch job 51347010\\n' None\n",
      "/pool001/shibal/results-synthetic/bashes/large-synthetic/normal/train_size_1000/v23_r1.0/seed6.sh submitted!\n",
      "job id: 51347010\n",
      "7\n",
      "2023-08-25 06:41:47 b'Submitted batch job 51347011\\n' None\n",
      "/pool001/shibal/results-synthetic/bashes/large-synthetic/normal/train_size_1000/v23_r1.0/seed7.sh submitted!\n",
      "job id: 51347011\n",
      "8\n",
      "2023-08-25 06:41:48 b'Submitted batch job 51347013\\n' None\n",
      "/pool001/shibal/results-synthetic/bashes/large-synthetic/normal/train_size_1000/v23_r1.0/seed8.sh submitted!\n",
      "job id: 51347013\n",
      "9\n",
      "2023-08-25 06:41:48 b'Submitted batch job 51347017\\n' None\n",
      "/pool001/shibal/results-synthetic/bashes/large-synthetic/normal/train_size_1000/v23_r1.0/seed9.sh submitted!\n",
      "job id: 51347017\n",
      "10\n",
      "2023-08-25 06:41:48 b'Submitted batch job 51347018\\n' None\n",
      "/pool001/shibal/results-synthetic/bashes/large-synthetic/normal/train_size_1000/v23_r1.0/seed10.sh submitted!\n",
      "job id: 51347018\n",
      "11\n",
      "2023-08-25 06:41:49 b'Submitted batch job 51347019\\n' None\n",
      "/pool001/shibal/results-synthetic/bashes/large-synthetic/normal/train_size_1000/v23_r1.0/seed11.sh submitted!\n",
      "job id: 51347019\n",
      "12\n",
      "2023-08-25 06:41:49 b'Submitted batch job 51347020\\n' None\n",
      "/pool001/shibal/results-synthetic/bashes/large-synthetic/normal/train_size_1000/v23_r1.0/seed12.sh submitted!\n",
      "job id: 51347020\n",
      "13\n",
      "2023-08-25 06:41:49 b'Submitted batch job 51347021\\n' None\n",
      "/pool001/shibal/results-synthetic/bashes/large-synthetic/normal/train_size_1000/v23_r1.0/seed13.sh submitted!\n",
      "job id: 51347021\n",
      "14\n",
      "2023-08-25 06:41:50 b'Submitted batch job 51347022\\n' None\n",
      "/pool001/shibal/results-synthetic/bashes/large-synthetic/normal/train_size_1000/v23_r1.0/seed14.sh submitted!\n",
      "job id: 51347022\n",
      "15\n",
      "2023-08-25 06:41:50 b'Submitted batch job 51347024\\n' None\n",
      "/pool001/shibal/results-synthetic/bashes/large-synthetic/normal/train_size_1000/v23_r1.0/seed15.sh submitted!\n",
      "job id: 51347024\n",
      "16\n",
      "2023-08-25 06:41:50 b'Submitted batch job 51347025\\n' None\n",
      "/pool001/shibal/results-synthetic/bashes/large-synthetic/normal/train_size_1000/v23_r1.0/seed16.sh submitted!\n",
      "job id: 51347025\n",
      "17\n",
      "2023-08-25 06:41:50 b'Submitted batch job 51347026\\n' None\n",
      "/pool001/shibal/results-synthetic/bashes/large-synthetic/normal/train_size_1000/v23_r1.0/seed17.sh submitted!\n",
      "job id: 51347026\n",
      "18\n",
      "2023-08-25 06:41:51 b'Submitted batch job 51347027\\n' None\n",
      "/pool001/shibal/results-synthetic/bashes/large-synthetic/normal/train_size_1000/v23_r1.0/seed18.sh submitted!\n",
      "job id: 51347027\n",
      "19\n",
      "2023-08-25 06:41:51 b'Submitted batch job 51347028\\n' None\n",
      "/pool001/shibal/results-synthetic/bashes/large-synthetic/normal/train_size_1000/v23_r1.0/seed19.sh submitted!\n",
      "job id: 51347028\n",
      "20\n",
      "2023-08-25 06:41:51 b'Submitted batch job 51347029\\n' None\n",
      "/pool001/shibal/results-synthetic/bashes/large-synthetic/normal/train_size_1000/v23_r1.0/seed20.sh submitted!\n",
      "job id: 51347029\n",
      "21\n",
      "2023-08-25 06:41:51 b'Submitted batch job 51347030\\n' None\n",
      "/pool001/shibal/results-synthetic/bashes/large-synthetic/normal/train_size_1000/v23_r1.0/seed21.sh submitted!\n",
      "job id: 51347030\n",
      "22\n",
      "2023-08-25 06:41:52 b'Submitted batch job 51347031\\n' None\n",
      "/pool001/shibal/results-synthetic/bashes/large-synthetic/normal/train_size_1000/v23_r1.0/seed22.sh submitted!\n",
      "job id: 51347031\n",
      "23\n",
      "2023-08-25 06:41:52 b'Submitted batch job 51347032\\n' None\n",
      "/pool001/shibal/results-synthetic/bashes/large-synthetic/normal/train_size_1000/v23_r1.0/seed23.sh submitted!\n",
      "job id: 51347032\n",
      "24\n",
      "2023-08-25 06:41:52 b'Submitted batch job 51347033\\n' None\n",
      "/pool001/shibal/results-synthetic/bashes/large-synthetic/normal/train_size_1000/v23_r1.0/seed24.sh submitted!\n",
      "job id: 51347033\n"
     ]
    }
   ],
   "source": [
    "exit_code = 1\n",
    "for i, seed in enumerate(seeds):\n",
    "    if i % 100 == 0:\n",
    "        clear_output(wait=True)\n",
    "    print(i)\n",
    "    sh = make_bash_file(seed, version, dist, r)\n",
    "    while True:\n",
    "        process = Popen([\"sbatch\",sh], stdout=PIPE)\n",
    "        (output, err) = process.communicate()\n",
    "        exit_code = process.wait()\n",
    "        print(time.strftime('%Y-%m-%d %H:%M:%S', time.localtime(time.time())),output,err)\n",
    "        if exit_code == 0:\n",
    "            print(sh,\"submitted!\")\n",
    "            tmp_id = str(output)[-11:-3]\n",
    "            print(\"job id:\", tmp_id)\n",
    "            submitted.append(tmp_id)\n",
    "            break\n",
    "        time.sleep(10000)"
   ]
  },
  {
   "cell_type": "code",
   "execution_count": 2,
   "metadata": {},
   "outputs": [],
   "source": [
    "from subprocess import Popen, PIPE"
   ]
  },
  {
   "cell_type": "code",
   "execution_count": 117,
   "metadata": {},
   "outputs": [
    {
     "name": "stdout",
     "output_type": "stream",
     "text": [
      "51329424 deleted!\n",
      "51329425 deleted!\n",
      "51329426 deleted!\n",
      "51329427 deleted!\n",
      "51329428 deleted!\n",
      "51329429 deleted!\n",
      "51329430 deleted!\n",
      "51329431 deleted!\n",
      "51329432 deleted!\n",
      "51329433 deleted!\n",
      "51329434 deleted!\n",
      "51329435 deleted!\n",
      "51329436 deleted!\n",
      "51329437 deleted!\n",
      "51329438 deleted!\n",
      "51329439 deleted!\n",
      "51329440 deleted!\n",
      "51329441 deleted!\n",
      "51329442 deleted!\n",
      "51329443 deleted!\n",
      "51329444 deleted!\n",
      "51329445 deleted!\n",
      "51329446 deleted!\n",
      "51329447 deleted!\n",
      "51329448 deleted!\n",
      "51329449 deleted!\n",
      "51329450 deleted!\n",
      "51329451 deleted!\n",
      "51329452 deleted!\n",
      "51329453 deleted!\n",
      "51329454 deleted!\n",
      "51329455 deleted!\n",
      "51329456 deleted!\n",
      "51329457 deleted!\n",
      "51329458 deleted!\n",
      "51329459 deleted!\n",
      "51329460 deleted!\n",
      "51329461 deleted!\n",
      "51329462 deleted!\n",
      "51329463 deleted!\n"
     ]
    }
   ],
   "source": [
    "for job in range(51329424, 51329464):\n",
    "    process = Popen(['scancel',str(job)], stdout=PIPE)\n",
    "    (output, err) = process.communicate()\n",
    "    exit_code = process.wait()\n",
    "    if exit_code ==0:\n",
    "        print(job, \"deleted!\")"
   ]
  },
  {
   "cell_type": "code",
   "execution_count": 214,
   "metadata": {
    "scrolled": true
   },
   "outputs": [
    {
     "name": "stdout",
     "output_type": "stream",
     "text": [
      "rm -r /pool001/shibal/results-synthetic/N_train_100/seed0/AMsWithInteractionsStrongHierarchy/v12/r1.0\n",
      "rm -r /pool001/shibal/results-synthetic/N_train_100/seed1/AMsWithInteractionsStrongHierarchy/v12/r1.0\n",
      "rm -r /pool001/shibal/results-synthetic/N_train_100/seed2/AMsWithInteractionsStrongHierarchy/v12/r1.0\n",
      "rm -r /pool001/shibal/results-synthetic/N_train_100/seed3/AMsWithInteractionsStrongHierarchy/v12/r1.0\n",
      "rm -r /pool001/shibal/results-synthetic/N_train_100/seed4/AMsWithInteractionsStrongHierarchy/v12/r1.0\n",
      "rm -r /pool001/shibal/results-synthetic/N_train_100/seed5/AMsWithInteractionsStrongHierarchy/v12/r1.0\n",
      "rm -r /pool001/shibal/results-synthetic/N_train_100/seed6/AMsWithInteractionsStrongHierarchy/v12/r1.0\n",
      "rm -r /pool001/shibal/results-synthetic/N_train_100/seed7/AMsWithInteractionsStrongHierarchy/v12/r1.0\n",
      "rm -r /pool001/shibal/results-synthetic/N_train_100/seed8/AMsWithInteractionsStrongHierarchy/v12/r1.0\n",
      "rm -r /pool001/shibal/results-synthetic/N_train_100/seed9/AMsWithInteractionsStrongHierarchy/v12/r1.0\n",
      "rm -r /pool001/shibal/results-synthetic/N_train_100/seed10/AMsWithInteractionsStrongHierarchy/v12/r1.0\n",
      "rm -r /pool001/shibal/results-synthetic/N_train_100/seed11/AMsWithInteractionsStrongHierarchy/v12/r1.0\n",
      "rm -r /pool001/shibal/results-synthetic/N_train_100/seed12/AMsWithInteractionsStrongHierarchy/v12/r1.0\n",
      "rm -r /pool001/shibal/results-synthetic/N_train_100/seed13/AMsWithInteractionsStrongHierarchy/v12/r1.0\n",
      "rm -r /pool001/shibal/results-synthetic/N_train_100/seed14/AMsWithInteractionsStrongHierarchy/v12/r1.0\n",
      "rm -r /pool001/shibal/results-synthetic/N_train_100/seed15/AMsWithInteractionsStrongHierarchy/v12/r1.0\n",
      "rm -r /pool001/shibal/results-synthetic/N_train_100/seed16/AMsWithInteractionsStrongHierarchy/v12/r1.0\n",
      "rm -r /pool001/shibal/results-synthetic/N_train_100/seed17/AMsWithInteractionsStrongHierarchy/v12/r1.0\n",
      "rm -r /pool001/shibal/results-synthetic/N_train_100/seed18/AMsWithInteractionsStrongHierarchy/v12/r1.0\n",
      "rm -r /pool001/shibal/results-synthetic/N_train_100/seed19/AMsWithInteractionsStrongHierarchy/v12/r1.0\n",
      "rm -r /pool001/shibal/results-synthetic/N_train_100/seed20/AMsWithInteractionsStrongHierarchy/v12/r1.0\n",
      "rm -r /pool001/shibal/results-synthetic/N_train_100/seed21/AMsWithInteractionsStrongHierarchy/v12/r1.0\n",
      "rm -r /pool001/shibal/results-synthetic/N_train_100/seed22/AMsWithInteractionsStrongHierarchy/v12/r1.0\n",
      "rm -r /pool001/shibal/results-synthetic/N_train_100/seed23/AMsWithInteractionsStrongHierarchy/v12/r1.0\n",
      "rm -r /pool001/shibal/results-synthetic/N_train_100/seed24/AMsWithInteractionsStrongHierarchy/v12/r1.0\n",
      "rm -r /pool001/shibal/results-synthetic/N_train_100/seed25/AMsWithInteractionsStrongHierarchy/v12/r1.0\n",
      "rm -r /pool001/shibal/results-synthetic/N_train_100/seed26/AMsWithInteractionsStrongHierarchy/v12/r1.0\n",
      "rm -r /pool001/shibal/results-synthetic/N_train_100/seed27/AMsWithInteractionsStrongHierarchy/v12/r1.0\n",
      "rm -r /pool001/shibal/results-synthetic/N_train_100/seed28/AMsWithInteractionsStrongHierarchy/v12/r1.0\n",
      "rm -r /pool001/shibal/results-synthetic/N_train_100/seed29/AMsWithInteractionsStrongHierarchy/v12/r1.0\n",
      "rm -r /pool001/shibal/results-synthetic/N_train_100/seed30/AMsWithInteractionsStrongHierarchy/v12/r1.0\n",
      "rm -r /pool001/shibal/results-synthetic/N_train_100/seed31/AMsWithInteractionsStrongHierarchy/v12/r1.0\n",
      "rm -r /pool001/shibal/results-synthetic/N_train_100/seed32/AMsWithInteractionsStrongHierarchy/v12/r1.0\n",
      "rm -r /pool001/shibal/results-synthetic/N_train_100/seed33/AMsWithInteractionsStrongHierarchy/v12/r1.0\n",
      "rm -r /pool001/shibal/results-synthetic/N_train_100/seed34/AMsWithInteractionsStrongHierarchy/v12/r1.0\n",
      "rm -r /pool001/shibal/results-synthetic/N_train_100/seed35/AMsWithInteractionsStrongHierarchy/v12/r1.0\n",
      "rm -r /pool001/shibal/results-synthetic/N_train_100/seed36/AMsWithInteractionsStrongHierarchy/v12/r1.0\n",
      "rm -r /pool001/shibal/results-synthetic/N_train_100/seed37/AMsWithInteractionsStrongHierarchy/v12/r1.0\n",
      "rm -r /pool001/shibal/results-synthetic/N_train_100/seed38/AMsWithInteractionsStrongHierarchy/v12/r1.0\n",
      "rm -r /pool001/shibal/results-synthetic/N_train_100/seed39/AMsWithInteractionsStrongHierarchy/v12/r1.0\n",
      "rm -r /pool001/shibal/results-synthetic/N_train_100/seed40/AMsWithInteractionsStrongHierarchy/v12/r1.0\n",
      "rm -r /pool001/shibal/results-synthetic/N_train_100/seed41/AMsWithInteractionsStrongHierarchy/v12/r1.0\n",
      "rm -r /pool001/shibal/results-synthetic/N_train_100/seed42/AMsWithInteractionsStrongHierarchy/v12/r1.0\n",
      "rm -r /pool001/shibal/results-synthetic/N_train_100/seed43/AMsWithInteractionsStrongHierarchy/v12/r1.0\n",
      "rm -r /pool001/shibal/results-synthetic/N_train_100/seed44/AMsWithInteractionsStrongHierarchy/v12/r1.0\n",
      "rm -r /pool001/shibal/results-synthetic/N_train_100/seed45/AMsWithInteractionsStrongHierarchy/v12/r1.0\n",
      "^C\n",
      "rm -r /pool001/shibal/results-synthetic/N_train_100/seed46/AMsWithInteractionsStrongHierarchy/v12/r1.0\n",
      "^C\n",
      "rm -r /pool001/shibal/results-synthetic/N_train_100/seed47/AMsWithInteractionsStrongHierarchy/v12/r1.0\n",
      "rm -r /pool001/shibal/results-synthetic/N_train_100/seed48/AMsWithInteractionsStrongHierarchy/v12/r1.0\n",
      "rm -r /pool001/shibal/results-synthetic/N_train_100/seed49/AMsWithInteractionsStrongHierarchy/v12/r1.0\n",
      "rm -r /pool001/shibal/results-synthetic/N_train_100/seed50/AMsWithInteractionsStrongHierarchy/v12/r1.0\n",
      "rm -r /pool001/shibal/results-synthetic/N_train_100/seed51/AMsWithInteractionsStrongHierarchy/v12/r1.0\n",
      "rm -r /pool001/shibal/results-synthetic/N_train_100/seed52/AMsWithInteractionsStrongHierarchy/v12/r1.0\n",
      "rm -r /pool001/shibal/results-synthetic/N_train_100/seed53/AMsWithInteractionsStrongHierarchy/v12/r1.0\n",
      "rm -r /pool001/shibal/results-synthetic/N_train_100/seed54/AMsWithInteractionsStrongHierarchy/v12/r1.0\n",
      "rm -r /pool001/shibal/results-synthetic/N_train_100/seed55/AMsWithInteractionsStrongHierarchy/v12/r1.0\n",
      "rm -r /pool001/shibal/results-synthetic/N_train_100/seed56/AMsWithInteractionsStrongHierarchy/v12/r1.0\n",
      "rm -r /pool001/shibal/results-synthetic/N_train_100/seed57/AMsWithInteractionsStrongHierarchy/v12/r1.0\n",
      "rm -r /pool001/shibal/results-synthetic/N_train_100/seed58/AMsWithInteractionsStrongHierarchy/v12/r1.0\n",
      "rm -r /pool001/shibal/results-synthetic/N_train_100/seed59/AMsWithInteractionsStrongHierarchy/v12/r1.0\n",
      "rm -r /pool001/shibal/results-synthetic/N_train_100/seed60/AMsWithInteractionsStrongHierarchy/v12/r1.0\n",
      "rm -r /pool001/shibal/results-synthetic/N_train_100/seed61/AMsWithInteractionsStrongHierarchy/v12/r1.0\n",
      "rm -r /pool001/shibal/results-synthetic/N_train_100/seed62/AMsWithInteractionsStrongHierarchy/v12/r1.0\n",
      "rm -r /pool001/shibal/results-synthetic/N_train_100/seed63/AMsWithInteractionsStrongHierarchy/v12/r1.0\n",
      "rm -r /pool001/shibal/results-synthetic/N_train_100/seed64/AMsWithInteractionsStrongHierarchy/v12/r1.0\n",
      "rm -r /pool001/shibal/results-synthetic/N_train_100/seed65/AMsWithInteractionsStrongHierarchy/v12/r1.0\n",
      "rm -r /pool001/shibal/results-synthetic/N_train_100/seed66/AMsWithInteractionsStrongHierarchy/v12/r1.0\n",
      "rm -r /pool001/shibal/results-synthetic/N_train_100/seed67/AMsWithInteractionsStrongHierarchy/v12/r1.0\n",
      "rm -r /pool001/shibal/results-synthetic/N_train_100/seed68/AMsWithInteractionsStrongHierarchy/v12/r1.0\n",
      "rm -r /pool001/shibal/results-synthetic/N_train_100/seed69/AMsWithInteractionsStrongHierarchy/v12/r1.0\n",
      "rm -r /pool001/shibal/results-synthetic/N_train_100/seed70/AMsWithInteractionsStrongHierarchy/v12/r1.0\n",
      "rm -r /pool001/shibal/results-synthetic/N_train_100/seed71/AMsWithInteractionsStrongHierarchy/v12/r1.0\n",
      "rm -r /pool001/shibal/results-synthetic/N_train_100/seed72/AMsWithInteractionsStrongHierarchy/v12/r1.0\n",
      "rm -r /pool001/shibal/results-synthetic/N_train_100/seed73/AMsWithInteractionsStrongHierarchy/v12/r1.0\n",
      "rm -r /pool001/shibal/results-synthetic/N_train_100/seed74/AMsWithInteractionsStrongHierarchy/v12/r1.0\n",
      "rm -r /pool001/shibal/results-synthetic/N_train_100/seed75/AMsWithInteractionsStrongHierarchy/v12/r1.0\n",
      "rm -r /pool001/shibal/results-synthetic/N_train_100/seed76/AMsWithInteractionsStrongHierarchy/v12/r1.0\n",
      "rm -r /pool001/shibal/results-synthetic/N_train_100/seed77/AMsWithInteractionsStrongHierarchy/v12/r1.0\n",
      "rm -r /pool001/shibal/results-synthetic/N_train_100/seed78/AMsWithInteractionsStrongHierarchy/v12/r1.0\n",
      "rm -r /pool001/shibal/results-synthetic/N_train_100/seed79/AMsWithInteractionsStrongHierarchy/v12/r1.0\n"
     ]
    },
    {
     "name": "stdout",
     "output_type": "stream",
     "text": [
      "rm -r /pool001/shibal/results-synthetic/N_train_100/seed80/AMsWithInteractionsStrongHierarchy/v12/r1.0\n",
      "rm -r /pool001/shibal/results-synthetic/N_train_100/seed81/AMsWithInteractionsStrongHierarchy/v12/r1.0\n",
      "rm -r /pool001/shibal/results-synthetic/N_train_100/seed82/AMsWithInteractionsStrongHierarchy/v12/r1.0\n",
      "rm -r /pool001/shibal/results-synthetic/N_train_100/seed83/AMsWithInteractionsStrongHierarchy/v12/r1.0\n",
      "rm -r /pool001/shibal/results-synthetic/N_train_100/seed84/AMsWithInteractionsStrongHierarchy/v12/r1.0\n",
      "rm -r /pool001/shibal/results-synthetic/N_train_100/seed85/AMsWithInteractionsStrongHierarchy/v12/r1.0\n",
      "rm -r /pool001/shibal/results-synthetic/N_train_100/seed86/AMsWithInteractionsStrongHierarchy/v12/r1.0\n",
      "rm -r /pool001/shibal/results-synthetic/N_train_100/seed87/AMsWithInteractionsStrongHierarchy/v12/r1.0\n",
      "rm -r /pool001/shibal/results-synthetic/N_train_100/seed88/AMsWithInteractionsStrongHierarchy/v12/r1.0\n",
      "rm -r /pool001/shibal/results-synthetic/N_train_100/seed89/AMsWithInteractionsStrongHierarchy/v12/r1.0\n",
      "rm -r /pool001/shibal/results-synthetic/N_train_100/seed90/AMsWithInteractionsStrongHierarchy/v12/r1.0\n",
      "rm -r /pool001/shibal/results-synthetic/N_train_100/seed91/AMsWithInteractionsStrongHierarchy/v12/r1.0\n",
      "rm -r /pool001/shibal/results-synthetic/N_train_100/seed92/AMsWithInteractionsStrongHierarchy/v12/r1.0\n",
      "rm -r /pool001/shibal/results-synthetic/N_train_100/seed93/AMsWithInteractionsStrongHierarchy/v12/r1.0\n",
      "rm -r /pool001/shibal/results-synthetic/N_train_100/seed94/AMsWithInteractionsStrongHierarchy/v12/r1.0\n",
      "rm -r /pool001/shibal/results-synthetic/N_train_100/seed95/AMsWithInteractionsStrongHierarchy/v12/r1.0\n",
      "rm -r /pool001/shibal/results-synthetic/N_train_100/seed96/AMsWithInteractionsStrongHierarchy/v12/r1.0\n",
      "rm -r /pool001/shibal/results-synthetic/N_train_100/seed97/AMsWithInteractionsStrongHierarchy/v12/r1.0\n",
      "rm -r /pool001/shibal/results-synthetic/N_train_100/seed98/AMsWithInteractionsStrongHierarchy/v12/r1.0\n",
      "rm -r /pool001/shibal/results-synthetic/N_train_100/seed99/AMsWithInteractionsStrongHierarchy/v12/r1.0\n"
     ]
    }
   ],
   "source": [
    "for seed in range(100):\n",
    "    command = f\"\"\"rm -r /pool001/shibal/results-synthetic/N_train_100/seed{seed}/AMsWithInteractionsStrongHierarchy/v12/r1.0\"\"\"\n",
    "    print(command)\n",
    "    !{command}"
   ]
  },
  {
   "cell_type": "code",
   "execution_count": 131,
   "metadata": {},
   "outputs": [],
   "source": [
    "import numpy as np"
   ]
  },
  {
   "cell_type": "code",
   "execution_count": 203,
   "metadata": {
    "scrolled": true
   },
   "outputs": [
    {
     "name": "stdout",
     "output_type": "stream",
     "text": [
      "Seed:  0  mise: 0.05746948823054627\n",
      "Seed:  1  mise: 0.10864654573857895\n",
      "Seed:  2  mise: 0.14212003165823628\n",
      "Seed:  3  mise: 0.13030285348364568\n",
      "Seed:  4  mise: 0.10690098756700583\n",
      "Seed:  5  mise: 0.28050942452727323\n",
      "Seed:  6  mise: 0.13346516333125424\n",
      "Seed:  7  mise: 0.12316804410129348\n",
      "Seed:  8  mise: 0.14965100230796105\n",
      "Seed:  9  mise: 0.14823474995258423\n",
      "Seed:  10  mise: 0.08493331585172205\n",
      "Seed:  11 Not found\n",
      "Seed:  12 Not found\n",
      "Seed:  13 Not found\n",
      "Seed:  14 Not found\n",
      "Seed:  15 Not found\n",
      "Seed:  16 Not found\n",
      "Seed:  17 Not found\n",
      "Seed:  18 Not found\n",
      "Seed:  19 Not found\n",
      "Seed:  20 Not found\n",
      "Seed:  21 Not found\n",
      "Seed:  22 Not found\n",
      "Seed:  23 Not found\n",
      "Seed:  24 Not found\n",
      "Seed:  25 Not found\n",
      "Seed:  26 Not found\n",
      "Seed:  27 Not found\n",
      "Seed:  28 Not found\n",
      "Seed:  29 Not found\n",
      "Seed:  30 Not found\n",
      "Seed:  31 Not found\n",
      "Seed:  32 Not found\n",
      "Seed:  33 Not found\n",
      "Seed:  34 Not found\n",
      "Seed:  35 Not found\n",
      "Seed:  36 Not found\n",
      "Seed:  37 Not found\n",
      "Seed:  38 Not found\n",
      "Seed:  39 Not found\n",
      "Seed:  40 Not found\n",
      "Seed:  41 Not found\n",
      "Seed:  42 Not found\n",
      "Seed:  43 Not found\n",
      "Seed:  44 Not found\n",
      "Seed:  45 Not found\n",
      "Seed:  46 Not found\n",
      "Seed:  47 Not found\n",
      "Seed:  48 Not found\n",
      "Seed:  49 Not found\n",
      "Seed:  50 Not found\n",
      "Seed:  51 Not found\n",
      "Seed:  52 Not found\n",
      "Seed:  53 Not found\n",
      "Seed:  54 Not found\n",
      "Seed:  55 Not found\n",
      "Seed:  56 Not found\n",
      "Seed:  57 Not found\n",
      "Seed:  58 Not found\n",
      "Seed:  59 Not found\n",
      "Seed:  60 Not found\n",
      "Seed:  61 Not found\n",
      "Seed:  62 Not found\n",
      "Seed:  63 Not found\n",
      "Seed:  64 Not found\n",
      "Seed:  65 Not found\n",
      "Seed:  66 Not found\n",
      "Seed:  67 Not found\n",
      "Seed:  68 Not found\n",
      "Seed:  69 Not found\n",
      "Seed:  70 Not found\n",
      "Seed:  71 Not found\n",
      "Seed:  72 Not found\n",
      "Seed:  73 Not found\n",
      "Seed:  74 Not found\n",
      "Seed:  75 Not found\n",
      "Seed:  76 Not found\n",
      "Seed:  77 Not found\n",
      "Seed:  78 Not found\n",
      "Seed:  79 Not found\n",
      "Seed:  80 Not found\n",
      "Seed:  81 Not found\n",
      "Seed:  82 Not found\n",
      "Seed:  83 Not found\n",
      "Seed:  84 Not found\n",
      "Seed:  85 Not found\n",
      "Seed:  86 Not found\n",
      "Seed:  87 Not found\n",
      "Seed:  88 Not found\n",
      "Seed:  89 Not found\n",
      "Seed:  90 Not found\n",
      "Seed:  91 Not found\n",
      "Seed:  92 Not found\n",
      "Seed:  93 Not found\n",
      "Seed:  94 Not found\n",
      "Seed:  95 Not found\n",
      "Seed:  96 Not found\n",
      "Seed:  97 Not found\n",
      "Seed:  98 Not found\n",
      "Seed:  99 Not found\n"
     ]
    }
   ],
   "source": [
    "vals = []\n",
    "MISE = []\n",
    "mains = []\n",
    "interactions = []\n",
    "fprs_main = []\n",
    "fnrs_main = []\n",
    "f1s_main = []\n",
    "fprs_interaction = []\n",
    "fnrs_interaction = []\n",
    "f1s_interaction = []\n",
    "\n",
    "\n",
    "for seed in np.arange(100):\n",
    "    filename = '/pool001/shibal/results-synthetic/large-synthetic/normal/N_train_1000/seed{}/AMsWithInteractionsStrongHierarchy/v23/r1.0'.format(seed)\n",
    "    \n",
    "    try:\n",
    "        with open(filename+'/Results-HS.txt') as file:\n",
    "            lines = file.readlines()\n",
    "            val = float([line for line in lines if \"val\" in line][0].split(\"val: \")[1].split(\",\")[0])\n",
    "            vals.append(val)\n",
    "            mise = float([line for line in lines if \"True\" in line][0].split(\" \")[-1].split(\"\\n\")[0])\n",
    "            MISE.append(mise)\n",
    "            fpr_main = float([line for line in lines if \"FPR (main)\" in line][0].split(\" \")[-1].split(\"\\n\")[0])\n",
    "            fprs_main.append(fpr_main)\n",
    "            fnr_main = float([line for line in lines if \"FNR (main)\" in line][0].split(\" \")[-1].split(\"\\n\")[0])\n",
    "            fnrs_main.append(fnr_main)\n",
    "            f1_main = float([line for line in lines if \"F1 (main)\" in line][0].split(\" \")[-1].split(\"\\n\")[0])\n",
    "            f1s_main.append(f1_main)\n",
    "            fpr_interaction = float([line for line in lines if \"FPR (interactions)\" in line][0].split(\" \")[-1].split(\"\\n\")[0])\n",
    "            fprs_interaction.append(fpr_interaction)\n",
    "            fnr_interaction = float([line for line in lines if \"FNR (interactions)\" in line][0].split(\" \")[-1].split(\"\\n\")[0])\n",
    "            fnrs_interaction.append(fnr_interaction)\n",
    "            f1_interaction = float([line for line in lines if \"F1 (interactions)\" in line][0].split(\" \")[-1].split(\"\\n\")[0])\n",
    "            f1s_interaction.append(f1_interaction)\n",
    "            print(\"Seed: \", seed, \" mise:\", mise)\n",
    "            \n",
    "        with open(filename+'/support_set.npy', 'rb') as f:\n",
    "            main_set = np.load(f)\n",
    "            interaction_set = np.load(f)\n",
    "            mains.append(main_set)\n",
    "            interactions.append(interaction_set)\n",
    "    except:\n",
    "        print(\"Seed: \", seed, \"Not found\")"
   ]
  },
  {
   "cell_type": "code",
   "execution_count": 204,
   "metadata": {},
   "outputs": [
    {
     "data": {
      "text/plain": [
       "11"
      ]
     },
     "execution_count": 204,
     "metadata": {},
     "output_type": "execute_result"
    }
   ],
   "source": [
    "len(MISE)"
   ]
  },
  {
   "cell_type": "code",
   "execution_count": 205,
   "metadata": {},
   "outputs": [
    {
     "data": {
      "text/plain": [
       "0.13030285348364568"
      ]
     },
     "execution_count": 205,
     "metadata": {},
     "output_type": "execute_result"
    }
   ],
   "source": [
    "np.median(MISE)"
   ]
  },
  {
   "cell_type": "code",
   "execution_count": 206,
   "metadata": {},
   "outputs": [
    {
     "name": "stdout",
     "output_type": "stream",
     "text": [
      "val: 0.19497518181818183 std-err: 0.016628892357032927\n",
      "MISE: 0.13321832788637283 std-err: 0.01619731288262166\n",
      "FPR (main): 0.012430426716141009 std-err: 0.0032076043713754527\n",
      "FNR (main): 0.009090909090909089 std-err: 0.008667841720414472\n",
      "F1 (main): 0.7938066708979178 std-err: 0.04696821894433722\n",
      "FPR (interactions): 5.90295111117573e-05 std-err: 7.662219910995276e-06\n",
      "FNR (interactions): 0.018181818181818177 std-err: 0.017335683440828944\n",
      "F1 (interactions): 0.5885935568949923 std-err: 0.032828942147774695\n"
     ]
    }
   ],
   "source": [
    "print(\"val:\", np.mean(vals), \"std-err:\", np.std(vals)/np.sqrt(len(vals)))\n",
    "print(\"MISE:\", np.mean(MISE), \"std-err:\", np.std(MISE)/np.sqrt(len(MISE)))\n",
    "print(\"FPR (main):\", np.mean(fprs_main), \"std-err:\", np.std(fprs_main)/np.sqrt(len(fprs_main)))\n",
    "print(\"FNR (main):\", np.mean(fnrs_main), \"std-err:\", np.std(fnrs_main)/np.sqrt(len(fnrs_main)))\n",
    "print(\"F1 (main):\", np.mean(f1s_main), \"std-err:\", np.std(f1s_main)/np.sqrt(len(f1s_main)))\n",
    "print(\"FPR (interactions):\", np.mean(fprs_interaction), \"std-err:\", np.std(fprs_interaction)/np.sqrt(len(fprs_interaction)))\n",
    "print(\"FNR (interactions):\", np.mean(fnrs_interaction), \"std-err:\", np.std(fnrs_interaction)/np.sqrt(len(fnrs_interaction)))\n",
    "print(\"F1 (interactions):\", np.mean(f1s_interaction), \"std-err:\", np.std(f1s_interaction)/np.sqrt(len(f1s_interaction)))\n"
   ]
  },
  {
   "cell_type": "code",
   "execution_count": 207,
   "metadata": {},
   "outputs": [
    {
     "data": {
      "text/plain": [
       "[0.12009,\n",
       " 0.16861,\n",
       " 0.203428,\n",
       " 0.190615,\n",
       " 0.170027,\n",
       " 0.348311,\n",
       " 0.196529,\n",
       " 0.182323,\n",
       " 0.209608,\n",
       " 0.208821,\n",
       " 0.146365]"
      ]
     },
     "execution_count": 207,
     "metadata": {},
     "output_type": "execute_result"
    }
   ],
   "source": [
    "vals"
   ]
  },
  {
   "cell_type": "code",
   "execution_count": 208,
   "metadata": {},
   "outputs": [
    {
     "data": {
      "text/plain": [
       "[0.625,\n",
       " 0.625,\n",
       " 0.45454545454545453,\n",
       " 0.5555555555555556,\n",
       " 0.5,\n",
       " 0.7272727272727272,\n",
       " 0.47619047619047616,\n",
       " 0.5263157894736842,\n",
       " 0.8333333333333333,\n",
       " 0.5263157894736842,\n",
       " 0.625]"
      ]
     },
     "execution_count": 208,
     "metadata": {},
     "output_type": "execute_result"
    }
   ],
   "source": [
    "f1s_interaction"
   ]
  },
  {
   "cell_type": "code",
   "execution_count": 173,
   "metadata": {},
   "outputs": [
    {
     "data": {
      "text/plain": [
       "[array([ 25,  75, 125, 175, 225, 275, 285, 325, 375, 425, 475]),\n",
       " array([ 25,  75, 125, 174, 175, 225, 275, 325, 375, 425, 475]),\n",
       " array([ 25,  75, 125, 126, 162, 175, 225, 275, 282, 313, 325, 336, 354,\n",
       "        375, 423, 425, 432, 475, 489])]"
      ]
     },
     "execution_count": 173,
     "metadata": {},
     "output_type": "execute_result"
    }
   ],
   "source": [
    "mains"
   ]
  },
  {
   "cell_type": "code",
   "execution_count": 44,
   "metadata": {},
   "outputs": [
    {
     "data": {
      "text/plain": [
       "(array([ 16,  21,  22,  24,  25,  26,  29,  41,  61,  75,  78,  80,  83,\n",
       "         86,  89, 105, 108, 109, 115, 122, 124, 125, 126, 127, 148, 151,\n",
       "        174, 175, 183, 194, 217, 218, 220, 225, 231, 250, 262, 267, 268,\n",
       "        275, 277, 284, 290, 297, 321, 325, 328, 337, 338, 344, 348, 357,\n",
       "        375, 391, 393, 399, 405, 412, 419, 420, 425, 432, 434, 468, 470,\n",
       "        474, 475, 489]),\n",
       " array([ 1,  1,  1, 13, 16, 12,  1,  2,  1, 16,  1,  1,  1,  1,  1,  1,  1,\n",
       "         1,  1,  1,  1, 16,  1,  2,  1,  1,  1, 16,  1,  1,  1,  1,  1, 16,\n",
       "         1,  1,  1,  1,  1, 16,  1,  2,  1,  1,  2, 16,  1,  1,  1,  1,  1,\n",
       "         1, 16,  1,  1,  1,  1,  1,  1,  1, 16,  1,  1,  1,  1,  1, 16,  1]))"
      ]
     },
     "execution_count": 44,
     "metadata": {},
     "output_type": "execute_result"
    }
   ],
   "source": [
    "np.unique(np.concatenate(mains).ravel(), return_counts=True)"
   ]
  },
  {
   "cell_type": "code",
   "execution_count": 115,
   "metadata": {},
   "outputs": [
    {
     "data": {
      "text/plain": [
       "(array([[  7, 175],\n",
       "        [ 22, 375],\n",
       "        [ 25,  75],\n",
       "        [ 25, 125],\n",
       "        [ 25, 375],\n",
       "        [ 25, 425],\n",
       "        [ 25, 475],\n",
       "        [ 25, 486],\n",
       "        [ 26,  75],\n",
       "        [ 27, 125],\n",
       "        [ 75, 175],\n",
       "        [ 75, 209],\n",
       "        [ 75, 475],\n",
       "        [ 92, 175],\n",
       "        [125, 126],\n",
       "        [125, 175],\n",
       "        [125, 275],\n",
       "        [125, 282],\n",
       "        [125, 294],\n",
       "        [125, 325],\n",
       "        [125, 336],\n",
       "        [125, 354],\n",
       "        [125, 375],\n",
       "        [125, 379],\n",
       "        [125, 423],\n",
       "        [125, 425],\n",
       "        [125, 432],\n",
       "        [125, 435],\n",
       "        [125, 463],\n",
       "        [125, 475],\n",
       "        [126, 175],\n",
       "        [162, 375],\n",
       "        [164, 175],\n",
       "        [165, 175],\n",
       "        [175, 198],\n",
       "        [175, 227],\n",
       "        [175, 275],\n",
       "        [175, 285],\n",
       "        [175, 348],\n",
       "        [175, 375],\n",
       "        [175, 463],\n",
       "        [175, 464],\n",
       "        [175, 470],\n",
       "        [175, 475],\n",
       "        [225, 325],\n",
       "        [248, 475],\n",
       "        [275, 425],\n",
       "        [275, 475],\n",
       "        [289, 425],\n",
       "        [325, 375],\n",
       "        [325, 425],\n",
       "        [325, 475],\n",
       "        [375, 425],\n",
       "        [375, 475],\n",
       "        [419, 425],\n",
       "        [425, 475]]),\n",
       " array([ 1,  1, 10, 10,  1,  1,  1,  1,  1,  2,  3,  1,  1,  1,  1, 10,  1,\n",
       "         1,  1,  1,  1,  1,  4,  1,  1,  1,  1,  1,  1,  2,  1,  1,  1,  1,\n",
       "         1,  1,  2,  1,  1,  4,  1,  1,  1,  4,  1,  1,  2,  1,  1,  9,  5,\n",
       "         2,  1,  3,  1, 10]))"
      ]
     },
     "execution_count": 115,
     "metadata": {},
     "output_type": "execute_result"
    }
   ],
   "source": [
    "interactions = [inter for inter in interactions if len(inter)>0]\n",
    "np.unique(np.concatenate(interactions, axis=0), return_counts=True, axis=0)"
   ]
  },
  {
   "cell_type": "code",
   "execution_count": null,
   "metadata": {},
   "outputs": [],
   "source": []
  },
  {
   "cell_type": "code",
   "execution_count": null,
   "metadata": {},
   "outputs": [],
   "source": []
  }
 ],
 "metadata": {
  "kernelspec": {
   "display_name": "Python [conda env:jasa] *",
   "language": "python",
   "name": "conda-env-jasa-py"
  },
  "language_info": {
   "codemirror_mode": {
    "name": "ipython",
    "version": 3
   },
   "file_extension": ".py",
   "mimetype": "text/x-python",
   "name": "python",
   "nbconvert_exporter": "python",
   "pygments_lexer": "ipython3",
   "version": "3.6.12"
  }
 },
 "nbformat": 4,
 "nbformat_minor": 4
}
