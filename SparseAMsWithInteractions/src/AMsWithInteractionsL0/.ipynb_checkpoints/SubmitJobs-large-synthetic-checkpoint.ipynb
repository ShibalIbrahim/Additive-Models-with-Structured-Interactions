{
 "cells": [
  {
   "cell_type": "code",
   "execution_count": 267,
   "metadata": {},
   "outputs": [],
   "source": [
    "import numpy as np\n",
    "import pandas as pd\n",
    "import os\n",
    "import shutil\n",
    "from subprocess import Popen, PIPE\n",
    "from IPython.display import clear_output\n",
    "import time"
   ]
  },
  {
   "cell_type": "code",
   "execution_count": 273,
   "metadata": {},
   "outputs": [],
   "source": [
    "PYPATH = '/home/shibal/anaconda3/envs/jasa/bin/python'\n",
    "FILEPATH = '/home/shibal/Additive-Models-with-Structured-Interactions/SparseAMsWithInteractions/src/AMsWithInteractionsL0/AMsWithInteractionsL0-Synthetic.py'\n",
    "PATH = \"/pool001/shibal/results-synthetic\"\n",
    "\n",
    "dataset = 'large-synthetic'\n",
    "version = 23\n",
    "# n = 100\n",
    "r = 1.5\n",
    "dist = 'normal'\n",
    "train_size = 1000"
   ]
  },
  {
   "cell_type": "code",
   "execution_count": 274,
   "metadata": {},
   "outputs": [],
   "source": [
    "def make_bash_file(seed, version, dist, r):\n",
    "    bash_folder_path = f\"{PATH}/bashes/{dataset}/{dist}/v{version}_r{r}\"\n",
    "    bash_file_path = os.path.join(bash_folder_path, \"seed{}.sh\".format(seed))\n",
    "    log_path = f\"{PATH}/logs/{dataset}/{dist}/v{version}_r{r}/seed{seed}\"\n",
    "    os.makedirs(bash_folder_path,exist_ok=True)\n",
    "    os.makedirs(log_path,exist_ok=True)\n",
    "    with open(bash_file_path,\"w\") as f:\n",
    "        f.write(\"#!/bin/bash\\n\")\n",
    "        f.write(\"#SBATCH --cpus-per-task=2\\n\")\n",
    "        f.write(\"#SBATCH --time=1-00:00\\n\")\n",
    "        f.write(\"#SBATCH --mem=16G\\n\")\n",
    "#         f.write(\"#SBATCH -p sched_mit_sloan_batch\\n\")\n",
    "        f.write(\"#SBATCH -p sched_mit_sloan_interactive\\n\")\n",
    "        f.write(\"#SBATCH --mail-type=FAIL\\n\")\n",
    "        f.write(\"#SBATCH --mail-user=shibal@mit.edu\\n\")\n",
    "        f.write(f\"#SBATCH -o {log_path}/seed{seed}_%j.out\\n\")\n",
    "        f.write(f\"#SBATCH -e {log_path}/_seed{seed}_%j.err\\n\\n\")\n",
    "        f.write(\"module load sloan/python/modules/python-3.6/gurobipy/9.0.1\\n\\n\")\n",
    "        f.write(f\"{PYPATH} -u {FILEPATH}  --dataset {dataset} --dist {dist} --seed {seed} --train_size {train_size} --version {version} --r {r} |& tee -a {log_path}/output_{train_size}.txt\\n\\n\") \n",
    "    return bash_file_path\n"
   ]
  },
  {
   "cell_type": "code",
   "execution_count": 275,
   "metadata": {},
   "outputs": [],
   "source": [
    "bash_files = []\n",
    "seeds = np.arange(25)\n",
    "for seed in seeds:\n",
    "    bash_files.append(make_bash_file(seed, version, dist, r))"
   ]
  },
  {
   "cell_type": "code",
   "execution_count": 276,
   "metadata": {},
   "outputs": [
    {
     "name": "stdout",
     "output_type": "stream",
     "text": [
      "25\n"
     ]
    }
   ],
   "source": [
    "torun = seeds\n",
    "# torun = range(1,6)\n",
    "submitted = []\n",
    "print(len(torun))"
   ]
  },
  {
   "cell_type": "code",
   "execution_count": 277,
   "metadata": {
    "scrolled": true
   },
   "outputs": [
    {
     "name": "stdout",
     "output_type": "stream",
     "text": [
      "0\n",
      "2023-08-24 01:52:46 b'Submitted batch job 51308599\\n' None\n",
      "/pool001/shibal/results-synthetic/bashes/large-synthetic/normal/v23_r1.0/seed0.sh submitted!\n",
      "job id: 51308599\n",
      "1\n",
      "2023-08-24 01:52:46 b'Submitted batch job 51308600\\n' None\n",
      "/pool001/shibal/results-synthetic/bashes/large-synthetic/normal/v23_r1.0/seed1.sh submitted!\n",
      "job id: 51308600\n",
      "2\n",
      "2023-08-24 01:52:47 b'Submitted batch job 51308601\\n' None\n",
      "/pool001/shibal/results-synthetic/bashes/large-synthetic/normal/v23_r1.0/seed2.sh submitted!\n",
      "job id: 51308601\n",
      "3\n",
      "2023-08-24 01:52:47 b'Submitted batch job 51308602\\n' None\n",
      "/pool001/shibal/results-synthetic/bashes/large-synthetic/normal/v23_r1.0/seed3.sh submitted!\n",
      "job id: 51308602\n",
      "4\n",
      "2023-08-24 01:52:47 b'Submitted batch job 51308603\\n' None\n",
      "/pool001/shibal/results-synthetic/bashes/large-synthetic/normal/v23_r1.0/seed4.sh submitted!\n",
      "job id: 51308603\n",
      "5\n",
      "2023-08-24 01:52:48 b'Submitted batch job 51308604\\n' None\n",
      "/pool001/shibal/results-synthetic/bashes/large-synthetic/normal/v23_r1.0/seed5.sh submitted!\n",
      "job id: 51308604\n",
      "6\n",
      "2023-08-24 01:52:48 b'Submitted batch job 51308605\\n' None\n",
      "/pool001/shibal/results-synthetic/bashes/large-synthetic/normal/v23_r1.0/seed6.sh submitted!\n",
      "job id: 51308605\n",
      "7\n",
      "2023-08-24 01:52:48 b'Submitted batch job 51308606\\n' None\n",
      "/pool001/shibal/results-synthetic/bashes/large-synthetic/normal/v23_r1.0/seed7.sh submitted!\n",
      "job id: 51308606\n",
      "8\n",
      "2023-08-24 01:52:48 b'Submitted batch job 51308607\\n' None\n",
      "/pool001/shibal/results-synthetic/bashes/large-synthetic/normal/v23_r1.0/seed8.sh submitted!\n",
      "job id: 51308607\n",
      "9\n",
      "2023-08-24 01:52:49 b'Submitted batch job 51308608\\n' None\n",
      "/pool001/shibal/results-synthetic/bashes/large-synthetic/normal/v23_r1.0/seed9.sh submitted!\n",
      "job id: 51308608\n",
      "10\n",
      "2023-08-24 01:52:49 b'Submitted batch job 51308609\\n' None\n",
      "/pool001/shibal/results-synthetic/bashes/large-synthetic/normal/v23_r1.0/seed10.sh submitted!\n",
      "job id: 51308609\n",
      "11\n",
      "2023-08-24 01:52:49 b'Submitted batch job 51308610\\n' None\n",
      "/pool001/shibal/results-synthetic/bashes/large-synthetic/normal/v23_r1.0/seed11.sh submitted!\n",
      "job id: 51308610\n",
      "12\n",
      "2023-08-24 01:52:50 b'Submitted batch job 51308611\\n' None\n",
      "/pool001/shibal/results-synthetic/bashes/large-synthetic/normal/v23_r1.0/seed12.sh submitted!\n",
      "job id: 51308611\n",
      "13\n",
      "2023-08-24 01:52:50 b'Submitted batch job 51308612\\n' None\n",
      "/pool001/shibal/results-synthetic/bashes/large-synthetic/normal/v23_r1.0/seed13.sh submitted!\n",
      "job id: 51308612\n",
      "14\n",
      "2023-08-24 01:52:50 b'Submitted batch job 51308613\\n' None\n",
      "/pool001/shibal/results-synthetic/bashes/large-synthetic/normal/v23_r1.0/seed14.sh submitted!\n",
      "job id: 51308613\n",
      "15\n",
      "2023-08-24 01:52:51 b'Submitted batch job 51308614\\n' None\n",
      "/pool001/shibal/results-synthetic/bashes/large-synthetic/normal/v23_r1.0/seed15.sh submitted!\n",
      "job id: 51308614\n",
      "16\n",
      "2023-08-24 01:52:51 b'Submitted batch job 51308615\\n' None\n",
      "/pool001/shibal/results-synthetic/bashes/large-synthetic/normal/v23_r1.0/seed16.sh submitted!\n",
      "job id: 51308615\n",
      "17\n",
      "2023-08-24 01:52:51 b'Submitted batch job 51308616\\n' None\n",
      "/pool001/shibal/results-synthetic/bashes/large-synthetic/normal/v23_r1.0/seed17.sh submitted!\n",
      "job id: 51308616\n",
      "18\n",
      "2023-08-24 01:52:51 b'Submitted batch job 51308617\\n' None\n",
      "/pool001/shibal/results-synthetic/bashes/large-synthetic/normal/v23_r1.0/seed18.sh submitted!\n",
      "job id: 51308617\n",
      "19\n",
      "2023-08-24 01:52:52 b'Submitted batch job 51308618\\n' None\n",
      "/pool001/shibal/results-synthetic/bashes/large-synthetic/normal/v23_r1.0/seed19.sh submitted!\n",
      "job id: 51308618\n",
      "20\n",
      "2023-08-24 01:52:52 b'Submitted batch job 51308619\\n' None\n",
      "/pool001/shibal/results-synthetic/bashes/large-synthetic/normal/v23_r1.0/seed20.sh submitted!\n",
      "job id: 51308619\n",
      "21\n",
      "2023-08-24 01:52:52 b'Submitted batch job 51308620\\n' None\n",
      "/pool001/shibal/results-synthetic/bashes/large-synthetic/normal/v23_r1.0/seed21.sh submitted!\n",
      "job id: 51308620\n",
      "22\n",
      "2023-08-24 01:52:53 b'Submitted batch job 51308621\\n' None\n",
      "/pool001/shibal/results-synthetic/bashes/large-synthetic/normal/v23_r1.0/seed22.sh submitted!\n",
      "job id: 51308621\n",
      "23\n",
      "2023-08-24 01:52:53 b'Submitted batch job 51308622\\n' None\n",
      "/pool001/shibal/results-synthetic/bashes/large-synthetic/normal/v23_r1.0/seed23.sh submitted!\n",
      "job id: 51308622\n",
      "24\n",
      "2023-08-24 01:52:53 b'Submitted batch job 51308623\\n' None\n",
      "/pool001/shibal/results-synthetic/bashes/large-synthetic/normal/v23_r1.0/seed24.sh submitted!\n",
      "job id: 51308623\n"
     ]
    }
   ],
   "source": [
    "exit_code = 1\n",
    "for i, seed in enumerate(seeds):\n",
    "    if i % 100 == 0:\n",
    "        clear_output(wait=True)\n",
    "    print(i)\n",
    "    sh = make_bash_file(seed, version, dist, r)\n",
    "    while True:\n",
    "        process = Popen([\"sbatch\",sh], stdout=PIPE)\n",
    "        (output, err) = process.communicate()\n",
    "        exit_code = process.wait()\n",
    "        print(time.strftime('%Y-%m-%d %H:%M:%S', time.localtime(time.time())),output,err)\n",
    "        if exit_code == 0:\n",
    "            print(sh,\"submitted!\")\n",
    "            tmp_id = str(output)[-11:-3]\n",
    "            print(\"job id:\", tmp_id)\n",
    "            submitted.append(tmp_id)\n",
    "            break\n",
    "        time.sleep(10000)"
   ]
  },
  {
   "cell_type": "code",
   "execution_count": 142,
   "metadata": {},
   "outputs": [],
   "source": [
    "# command = \"\"\"/home/shibal/anaconda3/envs/jasa/bin/python -u /home/shibal/Additive-Models-with-Structured-Interactions/SparseAMsWithInteractions/src/AMsWithInteractionsL0/AMsWithInteractionsL0-Synthetic.py  --dataset large-synthetic --dist normal --seed 0 --train_size 200 --version 19 --r 1.0 |& tee -a /pool001/shibal/results-synthetic/logs/large-synthetic/normal/v19_r1.0/seed0/output_200.txt\"\"\""
   ]
  },
  {
   "cell_type": "code",
   "execution_count": 143,
   "metadata": {},
   "outputs": [],
   "source": [
    "# !{command}"
   ]
  },
  {
   "cell_type": "code",
   "execution_count": 144,
   "metadata": {},
   "outputs": [],
   "source": [
    "from subprocess import Popen, PIPE"
   ]
  },
  {
   "cell_type": "code",
   "execution_count": 266,
   "metadata": {},
   "outputs": [
    {
     "name": "stdout",
     "output_type": "stream",
     "text": [
      "51305446 deleted!\n",
      "51305447 deleted!\n",
      "51305448 deleted!\n",
      "51305449 deleted!\n",
      "51305450 deleted!\n",
      "51305451 deleted!\n",
      "51305452 deleted!\n",
      "51305453 deleted!\n",
      "51305454 deleted!\n",
      "51305455 deleted!\n",
      "51305456 deleted!\n",
      "51305457 deleted!\n",
      "51305458 deleted!\n",
      "51305459 deleted!\n",
      "51305460 deleted!\n",
      "51305461 deleted!\n",
      "51305462 deleted!\n",
      "51305463 deleted!\n",
      "51305464 deleted!\n",
      "51305465 deleted!\n",
      "51305466 deleted!\n"
     ]
    }
   ],
   "source": [
    "for job in range(51305446, 51305467):\n",
    "    process = Popen(['scancel',str(job)], stdout=PIPE)\n",
    "    (output, err) = process.communicate()\n",
    "    exit_code = process.wait()\n",
    "    if exit_code ==0:\n",
    "        print(job, \"deleted!\")"
   ]
  },
  {
   "cell_type": "code",
   "execution_count": 33,
   "metadata": {},
   "outputs": [
    {
     "name": "stdout",
     "output_type": "stream",
     "text": [
      "rm -r /pool001/shibal/results-synthetic/heteroskedastic/N_train_400/seed0/AMsWithInteractionsL0/v13/r1.0\n",
      "rm -r /pool001/shibal/results-synthetic/heteroskedastic/N_train_400/seed1/AMsWithInteractionsL0/v13/r1.0\n",
      "rm -r /pool001/shibal/results-synthetic/heteroskedastic/N_train_400/seed2/AMsWithInteractionsL0/v13/r1.0\n",
      "rm -r /pool001/shibal/results-synthetic/heteroskedastic/N_train_400/seed3/AMsWithInteractionsL0/v13/r1.0\n",
      "rm -r /pool001/shibal/results-synthetic/heteroskedastic/N_train_400/seed4/AMsWithInteractionsL0/v13/r1.0\n",
      "rm -r /pool001/shibal/results-synthetic/heteroskedastic/N_train_400/seed5/AMsWithInteractionsL0/v13/r1.0\n",
      "rm -r /pool001/shibal/results-synthetic/heteroskedastic/N_train_400/seed6/AMsWithInteractionsL0/v13/r1.0\n",
      "rm -r /pool001/shibal/results-synthetic/heteroskedastic/N_train_400/seed7/AMsWithInteractionsL0/v13/r1.0\n",
      "rm -r /pool001/shibal/results-synthetic/heteroskedastic/N_train_400/seed8/AMsWithInteractionsL0/v13/r1.0\n",
      "rm -r /pool001/shibal/results-synthetic/heteroskedastic/N_train_400/seed9/AMsWithInteractionsL0/v13/r1.0\n",
      "rm -r /pool001/shibal/results-synthetic/heteroskedastic/N_train_400/seed10/AMsWithInteractionsL0/v13/r1.0\n",
      "rm -r /pool001/shibal/results-synthetic/heteroskedastic/N_train_400/seed11/AMsWithInteractionsL0/v13/r1.0\n",
      "rm -r /pool001/shibal/results-synthetic/heteroskedastic/N_train_400/seed12/AMsWithInteractionsL0/v13/r1.0\n",
      "rm -r /pool001/shibal/results-synthetic/heteroskedastic/N_train_400/seed13/AMsWithInteractionsL0/v13/r1.0\n",
      "rm -r /pool001/shibal/results-synthetic/heteroskedastic/N_train_400/seed14/AMsWithInteractionsL0/v13/r1.0\n",
      "rm -r /pool001/shibal/results-synthetic/heteroskedastic/N_train_400/seed15/AMsWithInteractionsL0/v13/r1.0\n",
      "rm -r /pool001/shibal/results-synthetic/heteroskedastic/N_train_400/seed16/AMsWithInteractionsL0/v13/r1.0\n",
      "rm -r /pool001/shibal/results-synthetic/heteroskedastic/N_train_400/seed17/AMsWithInteractionsL0/v13/r1.0\n",
      "rm -r /pool001/shibal/results-synthetic/heteroskedastic/N_train_400/seed18/AMsWithInteractionsL0/v13/r1.0\n",
      "rm -r /pool001/shibal/results-synthetic/heteroskedastic/N_train_400/seed19/AMsWithInteractionsL0/v13/r1.0\n",
      "rm -r /pool001/shibal/results-synthetic/heteroskedastic/N_train_400/seed20/AMsWithInteractionsL0/v13/r1.0\n",
      "rm -r /pool001/shibal/results-synthetic/heteroskedastic/N_train_400/seed21/AMsWithInteractionsL0/v13/r1.0\n",
      "rm -r /pool001/shibal/results-synthetic/heteroskedastic/N_train_400/seed22/AMsWithInteractionsL0/v13/r1.0\n",
      "rm -r /pool001/shibal/results-synthetic/heteroskedastic/N_train_400/seed23/AMsWithInteractionsL0/v13/r1.0\n",
      "rm -r /pool001/shibal/results-synthetic/heteroskedastic/N_train_400/seed24/AMsWithInteractionsL0/v13/r1.0\n",
      "rm -r /pool001/shibal/results-synthetic/heteroskedastic/N_train_400/seed25/AMsWithInteractionsL0/v13/r1.0\n",
      "rm -r /pool001/shibal/results-synthetic/heteroskedastic/N_train_400/seed26/AMsWithInteractionsL0/v13/r1.0\n",
      "rm -r /pool001/shibal/results-synthetic/heteroskedastic/N_train_400/seed27/AMsWithInteractionsL0/v13/r1.0\n",
      "rm -r /pool001/shibal/results-synthetic/heteroskedastic/N_train_400/seed28/AMsWithInteractionsL0/v13/r1.0\n",
      "rm -r /pool001/shibal/results-synthetic/heteroskedastic/N_train_400/seed29/AMsWithInteractionsL0/v13/r1.0\n",
      "rm -r /pool001/shibal/results-synthetic/heteroskedastic/N_train_400/seed30/AMsWithInteractionsL0/v13/r1.0\n",
      "rm -r /pool001/shibal/results-synthetic/heteroskedastic/N_train_400/seed31/AMsWithInteractionsL0/v13/r1.0\n",
      "rm -r /pool001/shibal/results-synthetic/heteroskedastic/N_train_400/seed32/AMsWithInteractionsL0/v13/r1.0\n",
      "rm -r /pool001/shibal/results-synthetic/heteroskedastic/N_train_400/seed33/AMsWithInteractionsL0/v13/r1.0\n",
      "rm -r /pool001/shibal/results-synthetic/heteroskedastic/N_train_400/seed34/AMsWithInteractionsL0/v13/r1.0\n",
      "rm -r /pool001/shibal/results-synthetic/heteroskedastic/N_train_400/seed35/AMsWithInteractionsL0/v13/r1.0\n",
      "rm -r /pool001/shibal/results-synthetic/heteroskedastic/N_train_400/seed36/AMsWithInteractionsL0/v13/r1.0\n",
      "rm -r /pool001/shibal/results-synthetic/heteroskedastic/N_train_400/seed37/AMsWithInteractionsL0/v13/r1.0\n",
      "rm -r /pool001/shibal/results-synthetic/heteroskedastic/N_train_400/seed38/AMsWithInteractionsL0/v13/r1.0\n",
      "rm -r /pool001/shibal/results-synthetic/heteroskedastic/N_train_400/seed39/AMsWithInteractionsL0/v13/r1.0\n",
      "rm -r /pool001/shibal/results-synthetic/heteroskedastic/N_train_400/seed40/AMsWithInteractionsL0/v13/r1.0\n",
      "rm -r /pool001/shibal/results-synthetic/heteroskedastic/N_train_400/seed41/AMsWithInteractionsL0/v13/r1.0\n",
      "rm -r /pool001/shibal/results-synthetic/heteroskedastic/N_train_400/seed42/AMsWithInteractionsL0/v13/r1.0\n",
      "rm -r /pool001/shibal/results-synthetic/heteroskedastic/N_train_400/seed43/AMsWithInteractionsL0/v13/r1.0\n",
      "rm -r /pool001/shibal/results-synthetic/heteroskedastic/N_train_400/seed44/AMsWithInteractionsL0/v13/r1.0\n",
      "rm -r /pool001/shibal/results-synthetic/heteroskedastic/N_train_400/seed45/AMsWithInteractionsL0/v13/r1.0\n",
      "rm -r /pool001/shibal/results-synthetic/heteroskedastic/N_train_400/seed46/AMsWithInteractionsL0/v13/r1.0\n",
      "rm -r /pool001/shibal/results-synthetic/heteroskedastic/N_train_400/seed47/AMsWithInteractionsL0/v13/r1.0\n",
      "rm -r /pool001/shibal/results-synthetic/heteroskedastic/N_train_400/seed48/AMsWithInteractionsL0/v13/r1.0\n",
      "rm -r /pool001/shibal/results-synthetic/heteroskedastic/N_train_400/seed49/AMsWithInteractionsL0/v13/r1.0\n",
      "rm -r /pool001/shibal/results-synthetic/heteroskedastic/N_train_400/seed50/AMsWithInteractionsL0/v13/r1.0\n",
      "rm -r /pool001/shibal/results-synthetic/heteroskedastic/N_train_400/seed51/AMsWithInteractionsL0/v13/r1.0\n",
      "rm -r /pool001/shibal/results-synthetic/heteroskedastic/N_train_400/seed52/AMsWithInteractionsL0/v13/r1.0\n",
      "rm -r /pool001/shibal/results-synthetic/heteroskedastic/N_train_400/seed53/AMsWithInteractionsL0/v13/r1.0\n",
      "rm -r /pool001/shibal/results-synthetic/heteroskedastic/N_train_400/seed54/AMsWithInteractionsL0/v13/r1.0\n",
      "rm -r /pool001/shibal/results-synthetic/heteroskedastic/N_train_400/seed55/AMsWithInteractionsL0/v13/r1.0\n",
      "rm -r /pool001/shibal/results-synthetic/heteroskedastic/N_train_400/seed56/AMsWithInteractionsL0/v13/r1.0\n",
      "rm -r /pool001/shibal/results-synthetic/heteroskedastic/N_train_400/seed57/AMsWithInteractionsL0/v13/r1.0\n",
      "rm -r /pool001/shibal/results-synthetic/heteroskedastic/N_train_400/seed58/AMsWithInteractionsL0/v13/r1.0\n",
      "rm -r /pool001/shibal/results-synthetic/heteroskedastic/N_train_400/seed59/AMsWithInteractionsL0/v13/r1.0\n",
      "rm -r /pool001/shibal/results-synthetic/heteroskedastic/N_train_400/seed60/AMsWithInteractionsL0/v13/r1.0\n",
      "rm -r /pool001/shibal/results-synthetic/heteroskedastic/N_train_400/seed61/AMsWithInteractionsL0/v13/r1.0\n",
      "rm -r /pool001/shibal/results-synthetic/heteroskedastic/N_train_400/seed62/AMsWithInteractionsL0/v13/r1.0\n",
      "rm -r /pool001/shibal/results-synthetic/heteroskedastic/N_train_400/seed63/AMsWithInteractionsL0/v13/r1.0\n",
      "rm -r /pool001/shibal/results-synthetic/heteroskedastic/N_train_400/seed64/AMsWithInteractionsL0/v13/r1.0\n",
      "rm -r /pool001/shibal/results-synthetic/heteroskedastic/N_train_400/seed65/AMsWithInteractionsL0/v13/r1.0\n",
      "rm -r /pool001/shibal/results-synthetic/heteroskedastic/N_train_400/seed66/AMsWithInteractionsL0/v13/r1.0\n",
      "rm -r /pool001/shibal/results-synthetic/heteroskedastic/N_train_400/seed67/AMsWithInteractionsL0/v13/r1.0\n",
      "rm -r /pool001/shibal/results-synthetic/heteroskedastic/N_train_400/seed68/AMsWithInteractionsL0/v13/r1.0\n",
      "rm -r /pool001/shibal/results-synthetic/heteroskedastic/N_train_400/seed69/AMsWithInteractionsL0/v13/r1.0\n",
      "rm -r /pool001/shibal/results-synthetic/heteroskedastic/N_train_400/seed70/AMsWithInteractionsL0/v13/r1.0\n",
      "rm -r /pool001/shibal/results-synthetic/heteroskedastic/N_train_400/seed71/AMsWithInteractionsL0/v13/r1.0\n",
      "rm -r /pool001/shibal/results-synthetic/heteroskedastic/N_train_400/seed72/AMsWithInteractionsL0/v13/r1.0\n",
      "rm -r /pool001/shibal/results-synthetic/heteroskedastic/N_train_400/seed73/AMsWithInteractionsL0/v13/r1.0\n",
      "rm -r /pool001/shibal/results-synthetic/heteroskedastic/N_train_400/seed74/AMsWithInteractionsL0/v13/r1.0\n",
      "rm -r /pool001/shibal/results-synthetic/heteroskedastic/N_train_400/seed75/AMsWithInteractionsL0/v13/r1.0\n",
      "rm -r /pool001/shibal/results-synthetic/heteroskedastic/N_train_400/seed76/AMsWithInteractionsL0/v13/r1.0\n",
      "rm -r /pool001/shibal/results-synthetic/heteroskedastic/N_train_400/seed77/AMsWithInteractionsL0/v13/r1.0\n"
     ]
    },
    {
     "name": "stdout",
     "output_type": "stream",
     "text": [
      "rm -r /pool001/shibal/results-synthetic/heteroskedastic/N_train_400/seed78/AMsWithInteractionsL0/v13/r1.0\n",
      "rm -r /pool001/shibal/results-synthetic/heteroskedastic/N_train_400/seed79/AMsWithInteractionsL0/v13/r1.0\n",
      "rm -r /pool001/shibal/results-synthetic/heteroskedastic/N_train_400/seed80/AMsWithInteractionsL0/v13/r1.0\n",
      "rm -r /pool001/shibal/results-synthetic/heteroskedastic/N_train_400/seed81/AMsWithInteractionsL0/v13/r1.0\n",
      "rm -r /pool001/shibal/results-synthetic/heteroskedastic/N_train_400/seed82/AMsWithInteractionsL0/v13/r1.0\n",
      "rm -r /pool001/shibal/results-synthetic/heteroskedastic/N_train_400/seed83/AMsWithInteractionsL0/v13/r1.0\n",
      "rm -r /pool001/shibal/results-synthetic/heteroskedastic/N_train_400/seed84/AMsWithInteractionsL0/v13/r1.0\n",
      "rm -r /pool001/shibal/results-synthetic/heteroskedastic/N_train_400/seed85/AMsWithInteractionsL0/v13/r1.0\n",
      "rm -r /pool001/shibal/results-synthetic/heteroskedastic/N_train_400/seed86/AMsWithInteractionsL0/v13/r1.0\n",
      "rm -r /pool001/shibal/results-synthetic/heteroskedastic/N_train_400/seed87/AMsWithInteractionsL0/v13/r1.0\n",
      "rm -r /pool001/shibal/results-synthetic/heteroskedastic/N_train_400/seed88/AMsWithInteractionsL0/v13/r1.0\n",
      "rm -r /pool001/shibal/results-synthetic/heteroskedastic/N_train_400/seed89/AMsWithInteractionsL0/v13/r1.0\n",
      "rm -r /pool001/shibal/results-synthetic/heteroskedastic/N_train_400/seed90/AMsWithInteractionsL0/v13/r1.0\n",
      "rm -r /pool001/shibal/results-synthetic/heteroskedastic/N_train_400/seed91/AMsWithInteractionsL0/v13/r1.0\n",
      "rm -r /pool001/shibal/results-synthetic/heteroskedastic/N_train_400/seed92/AMsWithInteractionsL0/v13/r1.0\n",
      "rm -r /pool001/shibal/results-synthetic/heteroskedastic/N_train_400/seed93/AMsWithInteractionsL0/v13/r1.0\n",
      "rm -r /pool001/shibal/results-synthetic/heteroskedastic/N_train_400/seed94/AMsWithInteractionsL0/v13/r1.0\n",
      "rm -r /pool001/shibal/results-synthetic/heteroskedastic/N_train_400/seed95/AMsWithInteractionsL0/v13/r1.0\n",
      "rm -r /pool001/shibal/results-synthetic/heteroskedastic/N_train_400/seed96/AMsWithInteractionsL0/v13/r1.0\n",
      "rm -r /pool001/shibal/results-synthetic/heteroskedastic/N_train_400/seed97/AMsWithInteractionsL0/v13/r1.0\n",
      "rm -r /pool001/shibal/results-synthetic/heteroskedastic/N_train_400/seed98/AMsWithInteractionsL0/v13/r1.0\n",
      "rm -r /pool001/shibal/results-synthetic/heteroskedastic/N_train_400/seed99/AMsWithInteractionsL0/v13/r1.0\n"
     ]
    }
   ],
   "source": [
    "for seed in range(100):\n",
    "    command = f\"\"\"rm -r /pool001/shibal/results-synthetic/heteroskedastic/N_train_400/seed{seed}/AMsWithInteractionsL0/v13/r1.0\"\"\"\n",
    "    print(command)\n",
    "    !{command}"
   ]
  },
  {
   "cell_type": "code",
   "execution_count": 2,
   "metadata": {},
   "outputs": [],
   "source": [
    "import numpy as np"
   ]
  },
  {
   "cell_type": "code",
   "execution_count": 13,
   "metadata": {
    "scrolled": true
   },
   "outputs": [
    {
     "name": "stdout",
     "output_type": "stream",
     "text": [
      "Seed:  0  mise: 0.0878975628717445\n",
      "Seed:  1  mise: 0.1050802460857798\n",
      "Seed:  2  mise: 0.21075620683449997\n",
      "Seed:  3  mise: 0.07761845494237664\n",
      "Seed:  4  mise: 0.07738820296142207\n",
      "Seed:  5  mise: 0.2852766622986521\n",
      "Seed:  6  mise: 0.07899483641679113\n",
      "Seed:  7  mise: 0.11407031138869814\n",
      "Seed:  8  mise: 0.3901042307071032\n",
      "Seed:  9  mise: 0.1077776688508339\n",
      "Seed:  10  mise: 0.09456175027097409\n",
      "Seed:  11  mise: 0.10784297341317606\n",
      "Seed:  12  mise: 0.08714790155316625\n",
      "Seed:  13  mise: 0.10270093557784425\n",
      "Seed:  14  mise: 0.140145252200519\n",
      "Seed:  15  mise: 0.09853737487421364\n",
      "Seed:  16  mise: 0.13059832950679628\n",
      "Seed:  17  mise: 0.07056519537304665\n",
      "Seed:  18  mise: 0.32196611788128315\n",
      "Seed:  19  mise: 0.13769217464830924\n",
      "Seed:  20  mise: 0.08469471045408668\n",
      "Seed:  21  mise: 0.08464434602132379\n",
      "Seed:  22  mise: 0.0711437849863742\n",
      "Seed:  23  mise: 0.09019461253634403\n",
      "Seed:  24  mise: 0.12167200018151834\n"
     ]
    }
   ],
   "source": [
    "MISE = []\n",
    "mains = []\n",
    "interactions = []\n",
    "fprs_main = []\n",
    "fnrs_main = []\n",
    "f1s_main = []\n",
    "fprs_interaction = []\n",
    "fnrs_interaction = []\n",
    "f1s_interaction = []\n",
    "\n",
    "\n",
    "for seed in np.arange(25):\n",
    "    filename = '/pool001/shibal/results-synthetic/large-synthetic/normal/N_train_1000/seed{}/AMsWithInteractionsL0/v23/r1.0'.format(seed)\n",
    "    \n",
    "    try:\n",
    "        with open(filename+'/Results.txt') as file:\n",
    "            lines = file.readlines()\n",
    "            mise = float([line for line in lines if \"True\" in line][0].split(\" \")[-1].split(\"\\n\")[0])\n",
    "            MISE.append(mise)\n",
    "            fpr_main = float([line for line in lines if \"FPR (main)\" in line][0].split(\" \")[-1].split(\"\\n\")[0])\n",
    "            fprs_main.append(fpr_main)\n",
    "            fnr_main = float([line for line in lines if \"FNR (main)\" in line][0].split(\" \")[-1].split(\"\\n\")[0])\n",
    "            fnrs_main.append(fnr_main)\n",
    "            f1_main = float([line for line in lines if \"F1 (main)\" in line][0].split(\" \")[-1].split(\"\\n\")[0])\n",
    "            f1s_main.append(f1_main)\n",
    "            fpr_interaction = float([line for line in lines if \"FPR (interactions)\" in line][0].split(\" \")[-1].split(\"\\n\")[0])\n",
    "            fprs_interaction.append(fpr_interaction)\n",
    "            fnr_interaction = float([line for line in lines if \"FNR (interactions)\" in line][0].split(\" \")[-1].split(\"\\n\")[0])\n",
    "            fnrs_interaction.append(fnr_interaction)\n",
    "            f1_interaction = float([line for line in lines if \"F1 (interactions)\" in line][0].split(\" \")[-1].split(\"\\n\")[0])\n",
    "            f1s_interaction.append(f1_interaction)\n",
    "            print(\"Seed: \", seed, \" mise:\", mise)\n",
    "            \n",
    "        with open(filename+'/support_set.npy', 'rb') as f:\n",
    "            main_set = np.load(f)\n",
    "            interaction_set = np.load(f)\n",
    "            mains.append(main_set)\n",
    "            interactions.append(interaction_set)\n",
    "    except:\n",
    "        pass"
   ]
  },
  {
   "cell_type": "code",
   "execution_count": 14,
   "metadata": {},
   "outputs": [
    {
     "data": {
      "text/plain": [
       "25"
      ]
     },
     "execution_count": 14,
     "metadata": {},
     "output_type": "execute_result"
    }
   ],
   "source": [
    "len(MISE)"
   ]
  },
  {
   "cell_type": "code",
   "execution_count": 15,
   "metadata": {},
   "outputs": [
    {
     "name": "stdout",
     "output_type": "stream",
     "text": [
      "MISE: 0.13116287371347507 std-err: 0.016228327128134733\n",
      "FPR (main): 0.0 std-err: 0.0\n",
      "FNR (main): 0.804 std-err: 0.015471263684650977\n",
      "F1 (main): 0.320945720945721 std-err: 0.02113942767247869\n",
      "FPR (interactions): 1.2505511242935086e-05 std-err: 1.980801822788299e-06\n",
      "FNR (interactions): 0.096 std-err: 0.035991110013446376\n",
      "F1 (interactions): 0.8167015207015207 std-err: 0.03108046590489163\n"
     ]
    }
   ],
   "source": [
    "print(\"MISE:\", np.mean(MISE), \"std-err:\", np.std(MISE)/np.sqrt(len(MISE)))\n",
    "print(\"FPR (main):\", np.mean(fprs_main), \"std-err:\", np.std(fprs_main)/np.sqrt(len(fprs_main)))\n",
    "print(\"FNR (main):\", np.mean(fnrs_main), \"std-err:\", np.std(fnrs_main)/np.sqrt(len(fnrs_main)))\n",
    "print(\"F1 (main):\", np.mean(f1s_main), \"std-err:\", np.std(f1s_main)/np.sqrt(len(f1s_main)))\n",
    "print(\"FPR (interactions):\", np.mean(fprs_interaction), \"std-err:\", np.std(fprs_interaction)/np.sqrt(len(fprs_interaction)))\n",
    "print(\"FNR (interactions):\", np.mean(fnrs_interaction), \"std-err:\", np.std(fnrs_interaction)/np.sqrt(len(fnrs_interaction)))\n",
    "print(\"F1 (interactions):\", np.mean(f1s_interaction), \"std-err:\", np.std(f1s_interaction)/np.sqrt(len(f1s_interaction)))\n"
   ]
  },
  {
   "cell_type": "code",
   "execution_count": 16,
   "metadata": {},
   "outputs": [
    {
     "data": {
      "text/plain": [
       "[array([225, 275]),\n",
       " array([225, 275]),\n",
       " array([425]),\n",
       " array([225, 425]),\n",
       " array([225, 275]),\n",
       " array([225, 275]),\n",
       " array([225]),\n",
       " array([225, 275]),\n",
       " array([225]),\n",
       " array([225]),\n",
       " array([225]),\n",
       " array([225, 275]),\n",
       " array([225, 275]),\n",
       " array([225, 275]),\n",
       " array([225]),\n",
       " array([275]),\n",
       " array([225, 275, 325, 475]),\n",
       " array([225, 275]),\n",
       " array([375, 425, 475]),\n",
       " array([225, 325, 375]),\n",
       " array([225, 275, 425]),\n",
       " array([225, 275, 425]),\n",
       " array([225, 275]),\n",
       " array([225, 275]),\n",
       " array([225, 275])]"
      ]
     },
     "execution_count": 16,
     "metadata": {},
     "output_type": "execute_result"
    }
   ],
   "source": [
    "mains"
   ]
  },
  {
   "cell_type": "code",
   "execution_count": 286,
   "metadata": {},
   "outputs": [
    {
     "data": {
      "text/plain": [
       "(array([225, 275, 325, 375, 425, 475]), array([21, 15,  2,  2,  5,  2]))"
      ]
     },
     "execution_count": 286,
     "metadata": {},
     "output_type": "execute_result"
    }
   ],
   "source": [
    "np.unique(np.concatenate(mains).ravel(), return_counts=True)"
   ]
  },
  {
   "cell_type": "code",
   "execution_count": 287,
   "metadata": {},
   "outputs": [
    {
     "data": {
      "text/plain": [
       "(array([[ 25,  75],\n",
       "        [ 25, 125],\n",
       "        [ 25, 475],\n",
       "        [ 75, 125],\n",
       "        [ 75, 175],\n",
       "        [ 75, 275],\n",
       "        [ 75, 425],\n",
       "        [125, 175],\n",
       "        [125, 325],\n",
       "        [125, 425],\n",
       "        [125, 475],\n",
       "        [175, 275],\n",
       "        [175, 375],\n",
       "        [175, 475],\n",
       "        [225, 325],\n",
       "        [225, 425],\n",
       "        [275, 375],\n",
       "        [275, 425],\n",
       "        [325, 375],\n",
       "        [325, 425],\n",
       "        [325, 475],\n",
       "        [375, 425],\n",
       "        [375, 475],\n",
       "        [425, 475]]),\n",
       " array([24, 22,  1,  1,  1,  1,  1, 24,  1,  1,  2,  1,  6,  2,  2,  1,  3,\n",
       "         1, 18,  4,  3,  2,  5, 20]))"
      ]
     },
     "execution_count": 287,
     "metadata": {},
     "output_type": "execute_result"
    }
   ],
   "source": [
    "interactions = [inter for inter in interactions if len(inter)>0]\n",
    "np.unique(np.concatenate(interactions, axis=0), return_counts=True, axis=0)"
   ]
  },
  {
   "cell_type": "code",
   "execution_count": null,
   "metadata": {},
   "outputs": [],
   "source": []
  },
  {
   "cell_type": "code",
   "execution_count": null,
   "metadata": {},
   "outputs": [],
   "source": []
  }
 ],
 "metadata": {
  "kernelspec": {
   "display_name": "Python [conda env:jasa] *",
   "language": "python",
   "name": "conda-env-jasa-py"
  },
  "language_info": {
   "codemirror_mode": {
    "name": "ipython",
    "version": 3
   },
   "file_extension": ".py",
   "mimetype": "text/x-python",
   "name": "python",
   "nbconvert_exporter": "python",
   "pygments_lexer": "ipython3",
   "version": "3.6.12"
  }
 },
 "nbformat": 4,
 "nbformat_minor": 4
}
